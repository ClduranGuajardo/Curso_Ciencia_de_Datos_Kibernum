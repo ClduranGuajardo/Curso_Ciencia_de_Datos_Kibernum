{
 "cells": [
  {
   "cell_type": "code",
   "execution_count": 1,
   "id": "bb04faac",
   "metadata": {},
   "outputs": [],
   "source": [
    "from bs4 import BeautifulSoup"
   ]
  },
  {
   "cell_type": "code",
   "execution_count": 2,
   "id": "132a606d",
   "metadata": {},
   "outputs": [],
   "source": [
    "contenido_html = open(\"html/index.html\")\n",
    "soup = BeautifulSoup(contenido_html, \"lxml\")"
   ]
  },
  {
   "cell_type": "code",
   "execution_count": 4,
   "id": "0f373def",
   "metadata": {},
   "outputs": [
    {
     "name": "stdout",
     "output_type": "stream",
     "text": [
      "<!DOCTYPE html>\n",
      "<html lang=\"en\">\n",
      " <head>\n",
      "  <meta charset=\"utf-8\"/>\n",
      "  <meta content=\"IE=edge\" http-equiv=\"X-UA-Compatible\"/>\n",
      "  <meta content=\"width=device-width, initial-scale=1.0\" name=\"viewport\"/>\n",
      "  <title>\n",
      "   Document\n",
      "  </title>\n",
      " </head>\n",
      " <body>\n",
      "  <div class=\"header\">\n",
      "   <h1 class=\"titulo\">\n",
      "    <b>\n",
      "     Titulo\n",
      "    </b>\n",
      "   </h1>\n",
      "   <p class=\"links\">\n",
      "    <a class=\"link\" href=\"http://example.com/link1\" id=\"link1\">\n",
      "     Primer Link\n",
      "    </a>\n",
      "    <a class=\"link\" id=\"link2\" target=\"_blank\">\n",
      "     Segundo link\n",
      "    </a>\n",
      "    <a class=\"link\" id=\"link3\">\n",
      "     Tercer Link\n",
      "    </a>\n",
      "   </p>\n",
      "  </div>\n",
      "  <div class=\"footer\">\n",
      "   <ul>\n",
      "    <li class=\"item\">\n",
      "     item1\n",
      "    </li>\n",
      "    <li class=\"item\">\n",
      "     item2\n",
      "    </li>\n",
      "    <li class=\"item_final\">\n",
      "     item3\n",
      "    </li>\n",
      "   </ul>\n",
      "  </div>\n",
      " </body>\n",
      "</html>\n"
     ]
    }
   ],
   "source": [
    "#soup\n",
    "#print(soup.prettify()) #verlo con indentación"
   ]
  },
  {
   "cell_type": "code",
   "execution_count": 9,
   "id": "bbeece18",
   "metadata": {},
   "outputs": [
    {
     "name": "stdout",
     "output_type": "stream",
     "text": [
      "{'href': 'http://example.com/link1', 'class': ['link'], 'id': 'link1'}\n"
     ]
    }
   ],
   "source": [
    "# Conociendo y navegando por el objeto soup\n",
    "#print(soup.html)\n",
    "#print(soup.html.head)\n",
    "#print(soup.body.a.text)\n",
    "#print(soup.body.ul.li.text)\n",
    "print(soup.body.a.attrs)"
   ]
  },
  {
   "cell_type": "code",
   "execution_count": 10,
   "id": "3ba66180",
   "metadata": {},
   "outputs": [
    {
     "name": "stdout",
     "output_type": "stream",
     "text": [
      "<li class=\"item_final\">item3</li>\n"
     ]
    }
   ],
   "source": [
    "# Métodos find y find_all\n",
    "print(soup.find(\"li\", class_ = \"item_final\"))"
   ]
  },
  {
   "cell_type": "code",
   "execution_count": 12,
   "id": "44525e47",
   "metadata": {},
   "outputs": [
    {
     "name": "stdout",
     "output_type": "stream",
     "text": [
      "[<li class=\"item\">item1</li>, <li class=\"item\">item2</li>]\n"
     ]
    }
   ],
   "source": [
    "print(soup.find_all(\"li\", class_=\"item\"))"
   ]
  },
  {
   "cell_type": "code",
   "execution_count": 17,
   "id": "0b0ec124",
   "metadata": {},
   "outputs": [
    {
     "name": "stdout",
     "output_type": "stream",
     "text": [
      "<a class=\"link\" href=\"http://example.com/link1\" id=\"link1\">\n",
      "        Primer Link\n",
      "      </a>\n"
     ]
    }
   ],
   "source": [
    "print(soup.find_all(\"a\", class_=\"link\")[0])"
   ]
  },
  {
   "cell_type": "code",
   "execution_count": 18,
   "id": "2944ca0b",
   "metadata": {},
   "outputs": [
    {
     "name": "stdout",
     "output_type": "stream",
     "text": [
      "[<a class=\"link\" id=\"link2\" target=\"_blank\">Segundo link</a>]\n"
     ]
    }
   ],
   "source": [
    "# Con mas de un atributo\n",
    "print(soup.find_all(\"a\", attrs= {\"class\":\"link\",\"id\":\"link2\"}))"
   ]
  },
  {
   "cell_type": "code",
   "execution_count": 19,
   "id": "5ea5f9c9",
   "metadata": {},
   "outputs": [
    {
     "name": "stdout",
     "output_type": "stream",
     "text": [
      "[<body>\n",
      "<div class=\"header\">\n",
      "<h1 class=\"titulo\"><b>Titulo</b></h1>\n",
      "<p class=\"links\">\n",
      "<a class=\"link\" href=\"http://example.com/link1\" id=\"link1\">\n",
      "        Primer Link\n",
      "      </a>\n",
      "<a class=\"link\" id=\"link2\" target=\"_blank\">Segundo link</a>\n",
      "<a class=\"link\" id=\"link3\"> Tercer Link</a>\n",
      "</p>\n",
      "</div>\n",
      "<div class=\"footer\">\n",
      "<ul>\n",
      "<li class=\"item\">item1</li>\n",
      "<li class=\"item\">item2</li>\n",
      "<li class=\"item_final\">item3</li>\n",
      "</ul>\n",
      "</div>\n",
      "</body>, <b>Titulo</b>]\n"
     ]
    }
   ],
   "source": [
    "# Expresiones Regulares\n",
    "import re\n",
    "print(soup.find_all(re.compile(\"^b\")))"
   ]
  },
  {
   "cell_type": "code",
   "execution_count": 20,
   "id": "ff51ebcb",
   "metadata": {},
   "outputs": [],
   "source": [
    "# CSS Selectors\n"
   ]
  },
  {
   "cell_type": "code",
   "execution_count": 21,
   "id": "b006dfd5",
   "metadata": {},
   "outputs": [
    {
     "name": "stdout",
     "output_type": "stream",
     "text": [
      "[<li class=\"item\">item1</li>, <li class=\"item\">item2</li>]\n"
     ]
    }
   ],
   "source": [
    "print(soup.select(\"ul > li.item\"))"
   ]
  },
  {
   "cell_type": "code",
   "execution_count": 22,
   "id": "f820ebf5",
   "metadata": {},
   "outputs": [
    {
     "name": "stdout",
     "output_type": "stream",
     "text": [
      "[<li class=\"item\">item1</li>, <li class=\"item\">item2</li>]\n",
      "<li class=\"item\">item1</li>\n",
      "item1\n"
     ]
    }
   ],
   "source": [
    "#. es para la clase\n",
    "print(soup.select(\"li.item\"))\n",
    "print(soup.select(\"li.item\")[0])\n",
    "print(soup.select(\"li.item\")[0].text)\n",
    "print(soup.select(\".item_final\"))"
   ]
  },
  {
   "cell_type": "code",
   "execution_count": 27,
   "id": "82979b92",
   "metadata": {},
   "outputs": [
    {
     "name": "stdout",
     "output_type": "stream",
     "text": [
      "[<a class=\"link\" id=\"link3\"> Tercer Link</a>]\n"
     ]
    }
   ],
   "source": [
    "# Buscar por id \n",
    "# el # es para id\n",
    "print(soup.select('#link3'))"
   ]
  },
  {
   "cell_type": "code",
   "execution_count": null,
   "id": "347773a8",
   "metadata": {},
   "outputs": [],
   "source": []
  }
 ],
 "metadata": {
  "kernelspec": {
   "display_name": "Python 3 (ipykernel)",
   "language": "python",
   "name": "python3"
  },
  "language_info": {
   "codemirror_mode": {
    "name": "ipython",
    "version": 3
   },
   "file_extension": ".py",
   "mimetype": "text/x-python",
   "name": "python",
   "nbconvert_exporter": "python",
   "pygments_lexer": "ipython3",
   "version": "3.9.7"
  }
 },
 "nbformat": 4,
 "nbformat_minor": 5
}
