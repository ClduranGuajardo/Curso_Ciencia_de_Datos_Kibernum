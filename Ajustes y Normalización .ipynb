{
 "cells": [
  {
   "cell_type": "code",
   "execution_count": 1,
   "id": "2be69f92",
   "metadata": {},
   "outputs": [],
   "source": [
    "import timeit # es para medir el performance de los modelos\n",
    "import numpy as np\n",
    "import pandas as pd\n",
    "import matplotlib.pyplot as plt\n",
    "import seaborn as sns\n",
    "from sklearn import datasets, linear_model\n",
    "from sklearn.preprocessing import MinMaxScaler\n",
    "plt.style.use(\"seaborn-dark\")"
   ]
  },
  {
   "cell_type": "code",
   "execution_count": 6,
   "id": "7904357f",
   "metadata": {},
   "outputs": [],
   "source": [
    "scaler = MinMaxScaler()\n",
    "X, y = datasets.load_diabetes(return_X_y = True)\n",
    "# X (raw) indica el indice de masa corporal\n",
    "# y es una medida cuantitativa de la progresión de la enfermedad, después de un año de inicio\n",
    "raw = X[:,None, 2] #Numpy NewAxis"
   ]
  },
  {
   "cell_type": "code",
   "execution_count": 17,
   "id": "7f9fe305",
   "metadata": {},
   "outputs": [],
   "source": [
    "# Reglas de Escalamiento\n",
    "max_raw = max(raw)\n",
    "min_raw = min(raw)\n",
    "scaled = (raw - min_raw)/(max_raw - min_raw)\n"
   ]
  },
  {
   "cell_type": "code",
   "execution_count": 18,
   "id": "9c64e1ab",
   "metadata": {},
   "outputs": [
    {
     "data": {
      "image/png": "[encoded data removed]",
      "text/plain": [
       "<Figure size 432x288 with 2 Axes>"
      ]
     },
     "metadata": {},
     "output_type": "display_data"
    }
   ],
   "source": [
    "# Es un arreglo de graficos\n",
    "# axs es el eje como quiero que se muestren nuestros graficos\n",
    "# 2 = fila\n",
    "# 1 = columna\n",
    "# Sharex que compartan el eje X\n",
    "fig, axs = plt.subplots(2, 1, sharex = True)\n",
    "axs[0].hist(raw)\n",
    "axs[1].hist(scaled)\n",
    "plt.show()\n",
    "#scaled = scaler.fit_transform(raw)"
   ]
  },
  {
   "cell_type": "code",
   "execution_count": 19,
   "id": "81873044",
   "metadata": {},
   "outputs": [],
   "source": [
    "# los modelos de entrenamiento, vamos a definir unas funciones\n",
    "# la variable \"Y\" es lo que buscamos predecir\n",
    "\n",
    "def train_raw():\n",
    "    linear_model.LinearRegression().fit(raw,y)\n",
    "\n",
    "def train_scaled():\n",
    "    linear_model.LinearRegression().fit(scaled, y) # como se muestran datos cuando se ajustan\n",
    "\n",
    "# 2 funciones train_raw con datos no escalados\n",
    "# train_scaled datos escalados\n"
   ]
  },
  {
   "cell_type": "code",
   "execution_count": 22,
   "id": "10b3704b",
   "metadata": {},
   "outputs": [
    {
     "name": "stdout",
     "output_type": "stream",
     "text": [
      "train raw: 0.051867500000298605\n",
      "train scaled: 0.03341369999998278\n"
     ]
    }
   ],
   "source": [
    "# el tiempo que se demoran en ejecutarse\n",
    "\n",
    "raw_time = timeit.timeit(train_raw, number = 100) # Repita 100 veces\n",
    "scaled_time = timeit.timeit(train_scaled, number = 100)\n",
    "\n",
    "print('train raw: {}'.format(raw_time))\n",
    "print('train scaled: {}'.format(scaled_time))"
   ]
  },
  {
   "cell_type": "markdown",
   "id": "37acb232",
   "metadata": {},
   "source": [
    "Evidenciamos una reducción en el tiempo de ejecución (que es lo que buscabamos), escalar los datos si contribuye al algoritmo"
   ]
  },
  {
   "cell_type": "markdown",
   "id": "6485fece",
   "metadata": {},
   "source": [
    "- max-min scalling: es mejor para datos uniformemente distribuidos\n",
    "- z-score scalling: es mejor para datos con una distribución normal (forma de campana de gauss)"
   ]
  },
  {
   "cell_type": "markdown",
   "id": "9895d78b",
   "metadata": {},
   "source": [
    "# Z-score"
   ]
  },
  {
   "cell_type": "code",
   "execution_count": 23,
   "id": "763151ab",
   "metadata": {},
   "outputs": [],
   "source": [
    "# promedio\n",
    "promedio = raw.mean()\n",
    "\n",
    "# desvviacion estandar\n",
    "\n",
    "desviacion_estandar = raw.std()\n",
    "scaled_z = (raw - promedio) / desviacion_estandar"
   ]
  },
  {
   "cell_type": "code",
   "execution_count": 24,
   "id": "fed92baa",
   "metadata": {},
   "outputs": [
    {
     "ename": "SyntaxError",
     "evalue": "invalid syntax (Temp/ipykernel_12172/835942642.py, line 2)",
     "output_type": "error",
     "traceback": [
      "\u001b[1;36m  File \u001b[1;32m\"C:\\Users\\Gamer\\AppData\\Local\\Temp/ipykernel_12172/835942642.py\"\u001b[1;36m, line \u001b[1;32m2\u001b[0m\n\u001b[1;33m    axs[]\u001b[0m\n\u001b[1;37m        ^\u001b[0m\n\u001b[1;31mSyntaxError\u001b[0m\u001b[1;31m:\u001b[0m invalid syntax\n"
     ]
    }
   ],
   "source": [
    "fig, axs = plt.subplots(3, 1, sharex = True)\n",
    "axs[0].hist(raw)\n",
    "axs[1].hist(scaled) #max-min\n",
    "axs[2].hist(scaled_z) #z-score"
   ]
  },
  {
   "cell_type": "code",
   "execution_count": 25,
   "id": "27b723ab",
   "metadata": {},
   "outputs": [],
   "source": [
    "# modelo de entrenamiento\n",
    "def train_scaled_z():\n",
    "    linear_model.LinearRegression().fit(scaled_z, y)"
   ]
  },
  {
   "cell_type": "code",
   "execution_count": 28,
   "id": "b8f1abf8",
   "metadata": {},
   "outputs": [
    {
     "name": "stdout",
     "output_type": "stream",
     "text": [
      "Trained Raw: 0.051867500000298605\n",
      "Trained Scaled: 0.03341369999998278\n",
      "Trained Scaled_Z: 0.04975249999915832\n"
     ]
    }
   ],
   "source": [
    "#Performance\n",
    "scaled_z_time = timeit.timeit(train_scaled_z, number = 100)\n",
    "print ('Trained Raw: {}'.format(raw_time))\n",
    "print ('Trained Scaled: {}'.format(scaled_time))\n",
    "print ('Trained Scaled_Z: {}'.format(scaled_z_time))"
   ]
  },
  {
   "cell_type": "code",
   "execution_count": null,
   "id": "470fbc5a",
   "metadata": {},
   "outputs": [],
   "source": []
  },
  {
   "cell_type": "code",
   "execution_count": null,
   "id": "abfa4f0f",
   "metadata": {},
   "outputs": [],
   "source": []
  }
 ],
 "metadata": {
  "kernelspec": {
   "display_name": "Python 3 (ipykernel)",
   "language": "python",
   "name": "python3"
  },
  "language_info": {
   "codemirror_mode": {
    "name": "ipython",
    "version": 3
   },
   "file_extension": ".py",
   "mimetype": "text/x-python",
   "name": "python",
   "nbconvert_exporter": "python",
   "pygments_lexer": "ipython3",
   "version": "3.9.7"
  }
 },
 "nbformat": 4,
 "nbformat_minor": 5
}
