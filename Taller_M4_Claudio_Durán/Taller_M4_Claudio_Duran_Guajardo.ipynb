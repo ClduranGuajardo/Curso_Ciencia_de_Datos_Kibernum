{
 "cells": [
  {
   "cell_type": "markdown",
   "id": "5f97e43c",
   "metadata": {},
   "source": [
    "# Tarea\n",
    "## \"Correlación no implica causalidad\""
   ]
  },
  {
   "cell_type": "markdown",
   "id": "1e68875b",
   "metadata": {},
   "source": [
    "### Intrucciones:\n",
    "- Buscar un dataset o crear uno que se ajuste a la premisa \"correlación no implica causalidad\"\n",
    "- Usar librerías para graficarlo"
   ]
  },
  {
   "cell_type": "markdown",
   "id": "9832d93a",
   "metadata": {},
   "source": [
    "## Chocolate consumption and Nobel laureates\n",
    "\n",
    "El dataset utilizado en esta tarea corresponde a la data extraida de una publicación llamada \"Chocolate consumption and Nobel laureates\" publicada en sciencedirect en 2020 (link: https://www.sciencedirect.com/science/article/pii/S2590291120300711#bib5).\n",
    "\n",
    "El dataset consta de 4 columnas cuyos nombres son:\n",
    "- Country \n",
    "- Chocolate consumption (kg/year/capita)\t\n",
    "- Coffee consumption (kg/year/capita)\t\n",
    "- Number of Nobel laureates (up to the year 2018)\n"
   ]
  },
  {
   "cell_type": "code",
   "execution_count": 2,
   "id": "6a0db340",
   "metadata": {},
   "outputs": [],
   "source": [
    "import numpy as np\n",
    "import pandas as pd\n",
    "import matplotlib.pyplot as plt\n",
    "import seaborn as sns\n",
    "from sklearn.preprocessing import StandardScaler # Z-score\n",
    "plt.style.use(\"seaborn-dark\")"
   ]
  },
  {
   "cell_type": "code",
   "execution_count": 5,
   "id": "7afeb5ea",
   "metadata": {},
   "outputs": [],
   "source": [
    "df =pd.read_csv('Chocolate_consumption_and_Nobel_laureates.csv')"
   ]
  },
  {
   "cell_type": "code",
   "execution_count": 6,
   "id": "bf5abce7",
   "metadata": {},
   "outputs": [
    {
     "data": {
      "text/html": [
       "<div>\n",
       "<style scoped>\n",
       "    .dataframe tbody tr th:only-of-type {\n",
       "        vertical-align: middle;\n",
       "    }\n",
       "\n",
       "    .dataframe tbody tr th {\n",
       "        vertical-align: top;\n",
       "    }\n",
       "\n",
       "    .dataframe thead th {\n",
       "        text-align: right;\n",
       "    }\n",
       "</style>\n",
       "<table border=\"1\" class=\"dataframe\">\n",
       "  <thead>\n",
       "    <tr style=\"text-align: right;\">\n",
       "      <th></th>\n",
       "      <th>Country;Chocolate_consumption;Coffee_consumption;Number_of_Nobel_laureates</th>\n",
       "    </tr>\n",
       "  </thead>\n",
       "  <tbody>\n",
       "    <tr>\n",
       "      <th>0</th>\n",
       "      <td>Australia;4.8;2.6;12</td>\n",
       "    </tr>\n",
       "    <tr>\n",
       "      <th>1</th>\n",
       "      <td>Austria;8.5;5.5;21</td>\n",
       "    </tr>\n",
       "    <tr>\n",
       "      <th>2</th>\n",
       "      <td>Belgium;6.4;4.9;10</td>\n",
       "    </tr>\n",
       "    <tr>\n",
       "      <th>3</th>\n",
       "      <td>Brazil;1.2;4.8;0</td>\n",
       "    </tr>\n",
       "    <tr>\n",
       "      <th>4</th>\n",
       "      <td>Canada;3.9;3.4;24</td>\n",
       "    </tr>\n",
       "  </tbody>\n",
       "</table>\n",
       "</div>"
      ],
      "text/plain": [
       "  Country;Chocolate_consumption;Coffee_consumption;Number_of_Nobel_laureates\n",
       "0                               Australia;4.8;2.6;12                        \n",
       "1                                 Austria;8.5;5.5;21                        \n",
       "2                                 Belgium;6.4;4.9;10                        \n",
       "3                                   Brazil;1.2;4.8;0                        \n",
       "4                                  Canada;3.9;3.4;24                        "
      ]
     },
     "execution_count": 6,
     "metadata": {},
     "output_type": "execute_result"
    }
   ],
   "source": [
    "df.head()"
   ]
  },
  {
   "cell_type": "code",
   "execution_count": null,
   "id": "546e304b",
   "metadata": {},
   "outputs": [],
   "source": []
  }
 ],
 "metadata": {
  "kernelspec": {
   "display_name": "Python 3 (ipykernel)",
   "language": "python",
   "name": "python3"
  },
  "language_info": {
   "codemirror_mode": {
    "name": "ipython",
    "version": 3
   },
   "file_extension": ".py",
   "mimetype": "text/x-python",
   "name": "python",
   "nbconvert_exporter": "python",
   "pygments_lexer": "ipython3",
   "version": "3.9.7"
  }
 },
 "nbformat": 4,
 "nbformat_minor": 5
}
