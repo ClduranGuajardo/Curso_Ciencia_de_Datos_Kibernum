{
 "cells": [
  {
   "cell_type": "code",
   "execution_count": 3,
   "id": "e9e67df8",
   "metadata": {},
   "outputs": [
    {
     "name": "stdout",
     "output_type": "stream",
     "text": [
      "Collecting watermark\n",
      "  Downloading watermark-2.3.0-py2.py3-none-any.whl (7.2 kB)\n",
      "Requirement already satisfied: ipython in c:\\users\\gamer\\anaconda3\\lib\\site-packages (from watermark) (7.29.0)\n",
      "Requirement already satisfied: colorama in c:\\users\\gamer\\anaconda3\\lib\\site-packages (from ipython->watermark) (0.4.4)\n",
      "Requirement already satisfied: pygments in c:\\users\\gamer\\anaconda3\\lib\\site-packages (from ipython->watermark) (2.10.0)\n",
      "Requirement already satisfied: pickleshare in c:\\users\\gamer\\anaconda3\\lib\\site-packages (from ipython->watermark) (0.7.5)\n",
      "Requirement already satisfied: decorator in c:\\users\\gamer\\anaconda3\\lib\\site-packages (from ipython->watermark) (5.1.0)\n",
      "Requirement already satisfied: matplotlib-inline in c:\\users\\gamer\\anaconda3\\lib\\site-packages (from ipython->watermark) (0.1.2)\n",
      "Requirement already satisfied: setuptools>=18.5 in c:\\users\\gamer\\anaconda3\\lib\\site-packages (from ipython->watermark) (58.0.4)\n",
      "Requirement already satisfied: jedi>=0.16 in c:\\users\\gamer\\anaconda3\\lib\\site-packages (from ipython->watermark) (0.18.0)\n",
      "Requirement already satisfied: prompt-toolkit!=3.0.0,!=3.0.1,<3.1.0,>=2.0.0 in c:\\users\\gamer\\anaconda3\\lib\\site-packages (from ipython->watermark) (3.0.20)\n",
      "Requirement already satisfied: backcall in c:\\users\\gamer\\anaconda3\\lib\\site-packages (from ipython->watermark) (0.2.0)\n",
      "Requirement already satisfied: traitlets>=4.2 in c:\\users\\gamer\\anaconda3\\lib\\site-packages (from ipython->watermark) (5.1.0)\n",
      "Requirement already satisfied: parso<0.9.0,>=0.8.0 in c:\\users\\gamer\\anaconda3\\lib\\site-packages (from jedi>=0.16->ipython->watermark) (0.8.2)\n",
      "Requirement already satisfied: wcwidth in c:\\users\\gamer\\anaconda3\\lib\\site-packages (from prompt-toolkit!=3.0.0,!=3.0.1,<3.1.0,>=2.0.0->ipython->watermark) (0.2.5)\n",
      "Installing collected packages: watermark\n",
      "Successfully installed watermark-2.3.0\n"
     ]
    }
   ],
   "source": [
    "!pip install watermark"
   ]
  },
  {
   "cell_type": "code",
   "execution_count": 4,
   "id": "3980c67d",
   "metadata": {},
   "outputs": [
    {
     "name": "stdout",
     "output_type": "stream",
     "text": [
      "Last updated: 2022-01-17T16:36:02.568529-03:00\n",
      "\n",
      "Python implementation: CPython\n",
      "Python version       : 3.9.7\n",
      "IPython version      : 7.29.0\n",
      "\n",
      "Compiler    : MSC v.1916 64 bit (AMD64)\n",
      "OS          : Windows\n",
      "Release     : 10\n",
      "Machine     : AMD64\n",
      "Processor   : Intel64 Family 6 Model 158 Stepping 11, GenuineIntel\n",
      "CPU cores   : 4\n",
      "Architecture: 64bit\n",
      "\n"
     ]
    }
   ],
   "source": [
    "%load_ext watermark\n",
    "%watermark\n"
   ]
  },
  {
   "cell_type": "code",
   "execution_count": 2,
   "id": "d4f5da78",
   "metadata": {},
   "outputs": [],
   "source": [
    "from sklearn import datasets"
   ]
  },
  {
   "cell_type": "code",
   "execution_count": 3,
   "id": "3f84560b",
   "metadata": {},
   "outputs": [],
   "source": [
    "dataset = datasets.load_boston()"
   ]
  },
  {
   "cell_type": "code",
   "execution_count": 4,
   "id": "417be735",
   "metadata": {},
   "outputs": [
    {
     "data": {
      "text/plain": [
       "dict_keys(['data', 'target', 'feature_names', 'DESCR', 'filename'])"
      ]
     },
     "execution_count": 4,
     "metadata": {},
     "output_type": "execute_result"
    }
   ],
   "source": [
    "dataset.keys()"
   ]
  },
  {
   "cell_type": "code",
   "execution_count": 5,
   "id": "063dea8f",
   "metadata": {},
   "outputs": [
    {
     "name": "stdout",
     "output_type": "stream",
     "text": [
      ".. _boston_dataset:\n",
      "\n",
      "Boston house prices dataset\n",
      "---------------------------\n",
      "\n",
      "**Data Set Characteristics:**  \n",
      "\n",
      "    :Number of Instances: 506 \n",
      "\n",
      "    :Number of Attributes: 13 numeric/categorical predictive. Median Value (attribute 14) is usually the target.\n",
      "\n",
      "    :Attribute Information (in order):\n",
      "        - CRIM     per capita crime rate by town\n",
      "        - ZN       proportion of residential land zoned for lots over 25,000 sq.ft.\n",
      "        - INDUS    proportion of non-retail business acres per town\n",
      "        - CHAS     Charles River dummy variable (= 1 if tract bounds river; 0 otherwise)\n",
      "        - NOX      nitric oxides concentration (parts per 10 million)\n",
      "        - RM       average number of rooms per dwelling\n",
      "        - AGE      proportion of owner-occupied units built prior to 1940\n",
      "        - DIS      weighted distances to five Boston employment centres\n",
      "        - RAD      index of accessibility to radial highways\n",
      "        - TAX      full-value property-tax rate per $10,000\n",
      "        - PTRATIO  pupil-teacher ratio by town\n",
      "        - B        1000(Bk - 0.63)^2 where Bk is the proportion of black people by town\n",
      "        - LSTAT    % lower status of the population\n",
      "        - MEDV     Median value of owner-occupied homes in $1000's\n",
      "\n",
      "    :Missing Attribute Values: None\n",
      "\n",
      "    :Creator: Harrison, D. and Rubinfeld, D.L.\n",
      "\n",
      "This is a copy of UCI ML housing dataset.\n",
      "https://archive.ics.uci.edu/ml/machine-learning-databases/housing/\n",
      "\n",
      "\n",
      "This dataset was taken from the StatLib library which is maintained at Carnegie Mellon University.\n",
      "\n",
      "The Boston house-price data of Harrison, D. and Rubinfeld, D.L. 'Hedonic\n",
      "prices and the demand for clean air', J. Environ. Economics & Management,\n",
      "vol.5, 81-102, 1978.   Used in Belsley, Kuh & Welsch, 'Regression diagnostics\n",
      "...', Wiley, 1980.   N.B. Various transformations are used in the table on\n",
      "pages 244-261 of the latter.\n",
      "\n",
      "The Boston house-price data has been used in many machine learning papers that address regression\n",
      "problems.   \n",
      "     \n",
      ".. topic:: References\n",
      "\n",
      "   - Belsley, Kuh & Welsch, 'Regression diagnostics: Identifying Influential Data and Sources of Collinearity', Wiley, 1980. 244-261.\n",
      "   - Quinlan,R. (1993). Combining Instance-Based and Model-Based Learning. In Proceedings on the Tenth International Conference of Machine Learning, 236-243, University of Massachusetts, Amherst. Morgan Kaufmann.\n",
      "\n"
     ]
    }
   ],
   "source": [
    "print(dataset['DESCR'])"
   ]
  },
  {
   "cell_type": "code",
   "execution_count": 6,
   "id": "bc9ac339",
   "metadata": {},
   "outputs": [
    {
     "data": {
      "text/plain": [
       "array([24. , 21.6, 34.7, 33.4, 36.2, 28.7, 22.9, 27.1, 16.5, 18.9, 15. ,\n",
       "       18.9, 21.7, 20.4, 18.2, 19.9, 23.1, 17.5, 20.2, 18.2, 13.6, 19.6,\n",
       "       15.2, 14.5, 15.6, 13.9, 16.6, 14.8, 18.4, 21. , 12.7, 14.5, 13.2,\n",
       "       13.1, 13.5, 18.9, 20. , 21. , 24.7, 30.8, 34.9, 26.6, 25.3, 24.7,\n",
       "       21.2, 19.3, 20. , 16.6, 14.4, 19.4, 19.7, 20.5, 25. , 23.4, 18.9,\n",
       "       35.4, 24.7, 31.6, 23.3, 19.6, 18.7, 16. , 22.2, 25. , 33. , 23.5,\n",
       "       19.4, 22. , 17.4, 20.9, 24.2, 21.7, 22.8, 23.4, 24.1, 21.4, 20. ,\n",
       "       20.8, 21.2, 20.3, 28. , 23.9, 24.8, 22.9, 23.9, 26.6, 22.5, 22.2,\n",
       "       23.6, 28.7, 22.6, 22. , 22.9, 25. , 20.6, 28.4, 21.4, 38.7, 43.8,\n",
       "       33.2, 27.5, 26.5, 18.6, 19.3, 20.1, 19.5, 19.5, 20.4, 19.8, 19.4,\n",
       "       21.7, 22.8, 18.8, 18.7, 18.5, 18.3, 21.2, 19.2, 20.4, 19.3, 22. ,\n",
       "       20.3, 20.5, 17.3, 18.8, 21.4, 15.7, 16.2, 18. , 14.3, 19.2, 19.6,\n",
       "       23. , 18.4, 15.6, 18.1, 17.4, 17.1, 13.3, 17.8, 14. , 14.4, 13.4,\n",
       "       15.6, 11.8, 13.8, 15.6, 14.6, 17.8, 15.4, 21.5, 19.6, 15.3, 19.4,\n",
       "       17. , 15.6, 13.1, 41.3, 24.3, 23.3, 27. , 50. , 50. , 50. , 22.7,\n",
       "       25. , 50. , 23.8, 23.8, 22.3, 17.4, 19.1, 23.1, 23.6, 22.6, 29.4,\n",
       "       23.2, 24.6, 29.9, 37.2, 39.8, 36.2, 37.9, 32.5, 26.4, 29.6, 50. ,\n",
       "       32. , 29.8, 34.9, 37. , 30.5, 36.4, 31.1, 29.1, 50. , 33.3, 30.3,\n",
       "       34.6, 34.9, 32.9, 24.1, 42.3, 48.5, 50. , 22.6, 24.4, 22.5, 24.4,\n",
       "       20. , 21.7, 19.3, 22.4, 28.1, 23.7, 25. , 23.3, 28.7, 21.5, 23. ,\n",
       "       26.7, 21.7, 27.5, 30.1, 44.8, 50. , 37.6, 31.6, 46.7, 31.5, 24.3,\n",
       "       31.7, 41.7, 48.3, 29. , 24. , 25.1, 31.5, 23.7, 23.3, 22. , 20.1,\n",
       "       22.2, 23.7, 17.6, 18.5, 24.3, 20.5, 24.5, 26.2, 24.4, 24.8, 29.6,\n",
       "       42.8, 21.9, 20.9, 44. , 50. , 36. , 30.1, 33.8, 43.1, 48.8, 31. ,\n",
       "       36.5, 22.8, 30.7, 50. , 43.5, 20.7, 21.1, 25.2, 24.4, 35.2, 32.4,\n",
       "       32. , 33.2, 33.1, 29.1, 35.1, 45.4, 35.4, 46. , 50. , 32.2, 22. ,\n",
       "       20.1, 23.2, 22.3, 24.8, 28.5, 37.3, 27.9, 23.9, 21.7, 28.6, 27.1,\n",
       "       20.3, 22.5, 29. , 24.8, 22. , 26.4, 33.1, 36.1, 28.4, 33.4, 28.2,\n",
       "       22.8, 20.3, 16.1, 22.1, 19.4, 21.6, 23.8, 16.2, 17.8, 19.8, 23.1,\n",
       "       21. , 23.8, 23.1, 20.4, 18.5, 25. , 24.6, 23. , 22.2, 19.3, 22.6,\n",
       "       19.8, 17.1, 19.4, 22.2, 20.7, 21.1, 19.5, 18.5, 20.6, 19. , 18.7,\n",
       "       32.7, 16.5, 23.9, 31.2, 17.5, 17.2, 23.1, 24.5, 26.6, 22.9, 24.1,\n",
       "       18.6, 30.1, 18.2, 20.6, 17.8, 21.7, 22.7, 22.6, 25. , 19.9, 20.8,\n",
       "       16.8, 21.9, 27.5, 21.9, 23.1, 50. , 50. , 50. , 50. , 50. , 13.8,\n",
       "       13.8, 15. , 13.9, 13.3, 13.1, 10.2, 10.4, 10.9, 11.3, 12.3,  8.8,\n",
       "        7.2, 10.5,  7.4, 10.2, 11.5, 15.1, 23.2,  9.7, 13.8, 12.7, 13.1,\n",
       "       12.5,  8.5,  5. ,  6.3,  5.6,  7.2, 12.1,  8.3,  8.5,  5. , 11.9,\n",
       "       27.9, 17.2, 27.5, 15. , 17.2, 17.9, 16.3,  7. ,  7.2,  7.5, 10.4,\n",
       "        8.8,  8.4, 16.7, 14.2, 20.8, 13.4, 11.7,  8.3, 10.2, 10.9, 11. ,\n",
       "        9.5, 14.5, 14.1, 16.1, 14.3, 11.7, 13.4,  9.6,  8.7,  8.4, 12.8,\n",
       "       10.5, 17.1, 18.4, 15.4, 10.8, 11.8, 14.9, 12.6, 14.1, 13. , 13.4,\n",
       "       15.2, 16.1, 17.8, 14.9, 14.1, 12.7, 13.5, 14.9, 20. , 16.4, 17.7,\n",
       "       19.5, 20.2, 21.4, 19.9, 19. , 19.1, 19.1, 20.1, 19.9, 19.6, 23.2,\n",
       "       29.8, 13.8, 13.3, 16.7, 12. , 14.6, 21.4, 23. , 23.7, 25. , 21.8,\n",
       "       20.6, 21.2, 19.1, 20.6, 15.2,  7. ,  8.1, 13.6, 20.1, 21.8, 24.5,\n",
       "       23.1, 19.7, 18.3, 21.2, 17.5, 16.8, 22.4, 20.6, 23.9, 22. , 11.9])"
      ]
     },
     "execution_count": 6,
     "metadata": {},
     "output_type": "execute_result"
    }
   ],
   "source": [
    "variable_objetivo = dataset['target']\n",
    "variable_objetivo"
   ]
  },
  {
   "cell_type": "code",
   "execution_count": 7,
   "id": "e299387a",
   "metadata": {},
   "outputs": [
    {
     "data": {
      "text/plain": [
       "array(['CRIM', 'ZN', 'INDUS', 'CHAS', 'NOX', 'RM', 'AGE', 'DIS', 'RAD',\n",
       "       'TAX', 'PTRATIO', 'B', 'LSTAT'], dtype='<U7')"
      ]
     },
     "execution_count": 7,
     "metadata": {},
     "output_type": "execute_result"
    }
   ],
   "source": [
    "nombre_variables_indepedientes = dataset['feature_names']\n",
    "nombre_variables_indepedientes"
   ]
  },
  {
   "cell_type": "code",
   "execution_count": 8,
   "id": "05209579",
   "metadata": {},
   "outputs": [
    {
     "data": {
      "text/plain": [
       "array([[6.3200e-03, 1.8000e+01, 2.3100e+00, ..., 1.5300e+01, 3.9690e+02,\n",
       "        4.9800e+00],\n",
       "       [2.7310e-02, 0.0000e+00, 7.0700e+00, ..., 1.7800e+01, 3.9690e+02,\n",
       "        9.1400e+00],\n",
       "       [2.7290e-02, 0.0000e+00, 7.0700e+00, ..., 1.7800e+01, 3.9283e+02,\n",
       "        4.0300e+00],\n",
       "       ...,\n",
       "       [6.0760e-02, 0.0000e+00, 1.1930e+01, ..., 2.1000e+01, 3.9690e+02,\n",
       "        5.6400e+00],\n",
       "       [1.0959e-01, 0.0000e+00, 1.1930e+01, ..., 2.1000e+01, 3.9345e+02,\n",
       "        6.4800e+00],\n",
       "       [4.7410e-02, 0.0000e+00, 1.1930e+01, ..., 2.1000e+01, 3.9690e+02,\n",
       "        7.8800e+00]])"
      ]
     },
     "execution_count": 8,
     "metadata": {},
     "output_type": "execute_result"
    }
   ],
   "source": [
    "data_variables_independientes = dataset['data']\n",
    "data_variables_independientes"
   ]
  },
  {
   "cell_type": "code",
   "execution_count": 9,
   "id": "1e0cb9dc",
   "metadata": {},
   "outputs": [],
   "source": [
    "from sklearn.linear_model import LinearRegression"
   ]
  },
  {
   "cell_type": "code",
   "execution_count": 10,
   "id": "f5f9c8a9",
   "metadata": {},
   "outputs": [],
   "source": [
    "LinearRegression?"
   ]
  },
  {
   "cell_type": "code",
   "execution_count": 11,
   "id": "bd93582b",
   "metadata": {},
   "outputs": [],
   "source": [
    "modelo = LinearRegression()"
   ]
  },
  {
   "cell_type": "code",
   "execution_count": 13,
   "id": "8585f570",
   "metadata": {},
   "outputs": [
    {
     "data": {
      "text/plain": [
       "LinearRegression()"
      ]
     },
     "execution_count": 13,
     "metadata": {},
     "output_type": "execute_result"
    }
   ],
   "source": [
    "# entrenar\n",
    "modelo.fit(X = data_variables_independientes, y=variable_objetivo)\n"
   ]
  },
  {
   "cell_type": "code",
   "execution_count": 14,
   "id": "b5d46d1b",
   "metadata": {},
   "outputs": [
    {
     "data": {
      "text/plain": [
       "36.459488385089855"
      ]
     },
     "execution_count": 14,
     "metadata": {},
     "output_type": "execute_result"
    }
   ],
   "source": [
    "modelo.intercept_\n"
   ]
  },
  {
   "cell_type": "code",
   "execution_count": 15,
   "id": "22f6c600",
   "metadata": {},
   "outputs": [
    {
     "data": {
      "text/plain": [
       "array([-1.08011358e-01,  4.64204584e-02,  2.05586264e-02,  2.68673382e+00,\n",
       "       -1.77666112e+01,  3.80986521e+00,  6.92224640e-04, -1.47556685e+00,\n",
       "        3.06049479e-01, -1.23345939e-02, -9.52747232e-01,  9.31168327e-03,\n",
       "       -5.24758378e-01])"
      ]
     },
     "execution_count": 15,
     "metadata": {},
     "output_type": "execute_result"
    }
   ],
   "source": [
    "modelo.coef_"
   ]
  },
  {
   "cell_type": "code",
   "execution_count": 16,
   "id": "435c544d",
   "metadata": {},
   "outputs": [],
   "source": [
    "predicciones = modelo.predict(data_variables_independientes)"
   ]
  },
  {
   "cell_type": "code",
   "execution_count": 17,
   "id": "de57b2fa",
   "metadata": {},
   "outputs": [
    {
     "name": "stdout",
     "output_type": "stream",
     "text": [
      "Valor real:24.000 valor estimado 30.004\n",
      "Valor real:21.600 valor estimado 25.026\n",
      "Valor real:34.700 valor estimado 30.568\n",
      "Valor real:33.400 valor estimado 28.607\n",
      "Valor real:36.200 valor estimado 27.944\n",
      "Valor real:28.700 valor estimado 25.256\n",
      "Valor real:22.900 valor estimado 23.002\n",
      "Valor real:27.100 valor estimado 19.536\n",
      "Valor real:16.500 valor estimado 11.524\n",
      "Valor real:18.900 valor estimado 18.920\n",
      "Valor real:15.000 valor estimado 18.999\n",
      "Valor real:18.900 valor estimado 21.587\n",
      "Valor real:21.700 valor estimado 20.907\n",
      "Valor real:20.400 valor estimado 19.553\n",
      "Valor real:18.200 valor estimado 19.283\n",
      "Valor real:19.900 valor estimado 19.297\n",
      "Valor real:23.100 valor estimado 20.528\n",
      "Valor real:17.500 valor estimado 16.911\n",
      "Valor real:20.200 valor estimado 16.178\n",
      "Valor real:18.200 valor estimado 18.406\n",
      "Valor real:13.600 valor estimado 12.524\n",
      "Valor real:19.600 valor estimado 17.671\n",
      "Valor real:15.200 valor estimado 15.833\n",
      "Valor real:14.500 valor estimado 13.806\n",
      "Valor real:15.600 valor estimado 15.678\n",
      "Valor real:13.900 valor estimado 13.387\n",
      "Valor real:16.600 valor estimado 15.464\n",
      "Valor real:14.800 valor estimado 14.708\n",
      "Valor real:18.400 valor estimado 19.547\n",
      "Valor real:21.000 valor estimado 20.876\n",
      "Valor real:12.700 valor estimado 11.455\n",
      "Valor real:14.500 valor estimado 18.059\n",
      "Valor real:13.200 valor estimado 8.811\n",
      "Valor real:13.100 valor estimado 14.283\n",
      "Valor real:13.500 valor estimado 13.707\n",
      "Valor real:18.900 valor estimado 23.815\n",
      "Valor real:20.000 valor estimado 22.342\n",
      "Valor real:21.000 valor estimado 23.109\n",
      "Valor real:24.700 valor estimado 22.915\n",
      "Valor real:30.800 valor estimado 31.358\n",
      "Valor real:34.900 valor estimado 34.215\n",
      "Valor real:26.600 valor estimado 28.021\n",
      "Valor real:25.300 valor estimado 25.204\n",
      "Valor real:24.700 valor estimado 24.610\n",
      "Valor real:21.200 valor estimado 22.941\n",
      "Valor real:19.300 valor estimado 22.097\n",
      "Valor real:20.000 valor estimado 20.423\n",
      "Valor real:16.600 valor estimado 18.037\n",
      "Valor real:14.400 valor estimado 9.107\n",
      "Valor real:19.400 valor estimado 17.206\n",
      "Valor real:19.700 valor estimado 21.282\n",
      "Valor real:20.500 valor estimado 23.972\n",
      "Valor real:25.000 valor estimado 27.656\n",
      "Valor real:23.400 valor estimado 24.049\n",
      "Valor real:18.900 valor estimado 15.362\n",
      "Valor real:35.400 valor estimado 31.153\n",
      "Valor real:24.700 valor estimado 24.857\n",
      "Valor real:31.600 valor estimado 33.109\n",
      "Valor real:23.300 valor estimado 21.775\n",
      "Valor real:19.600 valor estimado 21.085\n",
      "Valor real:18.700 valor estimado 17.873\n",
      "Valor real:16.000 valor estimado 18.511\n",
      "Valor real:22.200 valor estimado 23.987\n",
      "Valor real:25.000 valor estimado 22.554\n",
      "Valor real:33.000 valor estimado 23.373\n",
      "Valor real:23.500 valor estimado 30.361\n",
      "Valor real:19.400 valor estimado 25.531\n",
      "Valor real:22.000 valor estimado 21.113\n",
      "Valor real:17.400 valor estimado 17.422\n",
      "Valor real:20.900 valor estimado 20.785\n",
      "Valor real:24.200 valor estimado 25.201\n",
      "Valor real:21.700 valor estimado 21.743\n",
      "Valor real:22.800 valor estimado 24.557\n",
      "Valor real:23.400 valor estimado 24.043\n",
      "Valor real:24.100 valor estimado 25.505\n",
      "Valor real:21.400 valor estimado 23.967\n",
      "Valor real:20.000 valor estimado 22.945\n",
      "Valor real:20.800 valor estimado 23.357\n",
      "Valor real:21.200 valor estimado 21.262\n",
      "Valor real:20.300 valor estimado 22.428\n",
      "Valor real:28.000 valor estimado 28.406\n",
      "Valor real:23.900 valor estimado 26.995\n",
      "Valor real:24.800 valor estimado 26.036\n",
      "Valor real:22.900 valor estimado 25.059\n",
      "Valor real:23.900 valor estimado 24.785\n",
      "Valor real:26.600 valor estimado 27.790\n",
      "Valor real:22.500 valor estimado 22.169\n",
      "Valor real:22.200 valor estimado 25.893\n",
      "Valor real:23.600 valor estimado 30.675\n",
      "Valor real:28.700 valor estimado 30.831\n",
      "Valor real:22.600 valor estimado 27.119\n",
      "Valor real:22.000 valor estimado 27.413\n",
      "Valor real:22.900 valor estimado 28.941\n",
      "Valor real:25.000 valor estimado 29.081\n",
      "Valor real:20.600 valor estimado 27.040\n",
      "Valor real:28.400 valor estimado 28.625\n",
      "Valor real:21.400 valor estimado 24.727\n",
      "Valor real:38.700 valor estimado 35.782\n",
      "Valor real:43.800 valor estimado 35.115\n",
      "Valor real:33.200 valor estimado 32.251\n",
      "Valor real:27.500 valor estimado 24.580\n",
      "Valor real:26.500 valor estimado 25.594\n",
      "Valor real:18.600 valor estimado 19.790\n",
      "Valor real:19.300 valor estimado 20.312\n",
      "Valor real:20.100 valor estimado 21.435\n",
      "Valor real:19.500 valor estimado 18.540\n",
      "Valor real:19.500 valor estimado 17.188\n",
      "Valor real:20.400 valor estimado 20.750\n",
      "Valor real:19.800 valor estimado 22.648\n",
      "Valor real:19.400 valor estimado 19.772\n",
      "Valor real:21.700 valor estimado 20.650\n",
      "Valor real:22.800 valor estimado 26.526\n",
      "Valor real:18.800 valor estimado 20.773\n",
      "Valor real:18.700 valor estimado 20.715\n",
      "Valor real:18.500 valor estimado 25.172\n",
      "Valor real:18.300 valor estimado 20.430\n",
      "Valor real:21.200 valor estimado 23.377\n",
      "Valor real:19.200 valor estimado 23.690\n",
      "Valor real:20.400 valor estimado 20.336\n",
      "Valor real:19.300 valor estimado 20.792\n",
      "Valor real:22.000 valor estimado 21.916\n",
      "Valor real:20.300 valor estimado 22.471\n",
      "Valor real:20.500 valor estimado 20.557\n",
      "Valor real:17.300 valor estimado 16.367\n",
      "Valor real:18.800 valor estimado 20.561\n",
      "Valor real:21.400 valor estimado 22.482\n",
      "Valor real:15.700 valor estimado 14.617\n",
      "Valor real:16.200 valor estimado 15.179\n",
      "Valor real:18.000 valor estimado 18.939\n",
      "Valor real:14.300 valor estimado 14.056\n",
      "Valor real:19.200 valor estimado 20.035\n",
      "Valor real:19.600 valor estimado 19.410\n",
      "Valor real:23.000 valor estimado 20.062\n",
      "Valor real:18.400 valor estimado 15.758\n",
      "Valor real:15.600 valor estimado 13.256\n",
      "Valor real:18.100 valor estimado 17.263\n",
      "Valor real:17.400 valor estimado 15.878\n",
      "Valor real:17.100 valor estimado 19.362\n",
      "Valor real:13.300 valor estimado 13.815\n",
      "Valor real:17.800 valor estimado 16.449\n",
      "Valor real:14.000 valor estimado 13.571\n",
      "Valor real:14.400 valor estimado 3.989\n",
      "Valor real:13.400 valor estimado 14.595\n",
      "Valor real:15.600 valor estimado 12.149\n",
      "Valor real:11.800 valor estimado 8.728\n",
      "Valor real:13.800 valor estimado 12.036\n",
      "Valor real:15.600 valor estimado 15.821\n",
      "Valor real:14.600 valor estimado 8.515\n",
      "Valor real:17.800 valor estimado 9.718\n",
      "Valor real:15.400 valor estimado 14.805\n",
      "Valor real:21.500 valor estimado 20.839\n",
      "Valor real:19.600 valor estimado 18.301\n",
      "Valor real:15.300 valor estimado 20.123\n",
      "Valor real:19.400 valor estimado 17.286\n",
      "Valor real:17.000 valor estimado 22.366\n",
      "Valor real:15.600 valor estimado 20.104\n",
      "Valor real:13.100 valor estimado 13.621\n",
      "Valor real:41.300 valor estimado 33.260\n",
      "Valor real:24.300 valor estimado 29.030\n",
      "Valor real:23.300 valor estimado 25.568\n",
      "Valor real:27.000 valor estimado 32.708\n",
      "Valor real:50.000 valor estimado 36.775\n",
      "Valor real:50.000 valor estimado 40.558\n",
      "Valor real:50.000 valor estimado 41.847\n",
      "Valor real:22.700 valor estimado 24.789\n",
      "Valor real:25.000 valor estimado 25.379\n",
      "Valor real:50.000 valor estimado 37.203\n",
      "Valor real:23.800 valor estimado 23.087\n",
      "Valor real:23.800 valor estimado 26.403\n",
      "Valor real:22.300 valor estimado 26.654\n",
      "Valor real:17.400 valor estimado 22.555\n",
      "Valor real:19.100 valor estimado 24.291\n",
      "Valor real:23.100 valor estimado 22.977\n",
      "Valor real:23.600 valor estimado 29.072\n",
      "Valor real:22.600 valor estimado 26.522\n",
      "Valor real:29.400 valor estimado 30.722\n",
      "Valor real:23.200 valor estimado 25.617\n",
      "Valor real:24.600 valor estimado 29.137\n",
      "Valor real:29.900 valor estimado 31.436\n",
      "Valor real:37.200 valor estimado 32.922\n",
      "Valor real:39.800 valor estimado 34.724\n",
      "Valor real:36.200 valor estimado 27.766\n",
      "Valor real:37.900 valor estimado 33.888\n",
      "Valor real:32.500 valor estimado 30.992\n",
      "Valor real:26.400 valor estimado 22.718\n",
      "Valor real:29.600 valor estimado 24.766\n",
      "Valor real:50.000 valor estimado 35.885\n",
      "Valor real:32.000 valor estimado 33.425\n",
      "Valor real:29.800 valor estimado 32.412\n",
      "Valor real:34.900 valor estimado 34.515\n",
      "Valor real:37.000 valor estimado 30.761\n",
      "Valor real:30.500 valor estimado 30.289\n",
      "Valor real:36.400 valor estimado 32.919\n",
      "Valor real:31.100 valor estimado 32.113\n",
      "Valor real:29.100 valor estimado 31.559\n",
      "Valor real:50.000 valor estimado 40.846\n",
      "Valor real:33.300 valor estimado 36.128\n",
      "Valor real:30.300 valor estimado 32.669\n",
      "Valor real:34.600 valor estimado 34.705\n",
      "Valor real:34.900 valor estimado 30.093\n",
      "Valor real:32.900 valor estimado 30.644\n",
      "Valor real:24.100 valor estimado 29.287\n",
      "Valor real:42.300 valor estimado 37.071\n",
      "Valor real:48.500 valor estimado 42.032\n",
      "Valor real:50.000 valor estimado 43.189\n",
      "Valor real:22.600 valor estimado 22.690\n",
      "Valor real:24.400 valor estimado 23.683\n",
      "Valor real:22.500 valor estimado 17.854\n",
      "Valor real:24.400 valor estimado 23.494\n",
      "Valor real:20.000 valor estimado 17.006\n",
      "Valor real:21.700 valor estimado 22.393\n",
      "Valor real:19.300 valor estimado 17.060\n",
      "Valor real:22.400 valor estimado 22.739\n",
      "Valor real:28.100 valor estimado 25.219\n",
      "Valor real:23.700 valor estimado 11.119\n",
      "Valor real:25.000 valor estimado 24.510\n",
      "Valor real:23.300 valor estimado 26.603\n",
      "Valor real:28.700 valor estimado 28.355\n",
      "Valor real:21.500 valor estimado 24.915\n",
      "Valor real:23.000 valor estimado 29.687\n",
      "Valor real:26.700 valor estimado 33.184\n",
      "Valor real:21.700 valor estimado 23.775\n",
      "Valor real:27.500 valor estimado 32.141\n",
      "Valor real:30.100 valor estimado 29.746\n",
      "Valor real:44.800 valor estimado 38.371\n",
      "Valor real:50.000 valor estimado 39.815\n",
      "Valor real:37.600 valor estimado 37.586\n",
      "Valor real:31.600 valor estimado 32.400\n",
      "Valor real:46.700 valor estimado 35.457\n",
      "Valor real:31.500 valor estimado 31.234\n",
      "Valor real:24.300 valor estimado 24.484\n",
      "Valor real:31.700 valor estimado 33.288\n",
      "Valor real:41.700 valor estimado 38.048\n",
      "Valor real:48.300 valor estimado 37.163\n",
      "Valor real:29.000 valor estimado 31.714\n",
      "Valor real:24.000 valor estimado 25.267\n",
      "Valor real:25.100 valor estimado 30.100\n",
      "Valor real:31.500 valor estimado 32.720\n",
      "Valor real:23.700 valor estimado 28.427\n",
      "Valor real:23.300 valor estimado 28.429\n",
      "Valor real:22.000 valor estimado 27.294\n",
      "Valor real:20.100 valor estimado 23.743\n",
      "Valor real:22.200 valor estimado 24.120\n",
      "Valor real:23.700 valor estimado 27.402\n",
      "Valor real:17.600 valor estimado 16.329\n",
      "Valor real:18.500 valor estimado 13.399\n",
      "Valor real:24.300 valor estimado 20.016\n",
      "Valor real:20.500 valor estimado 19.862\n",
      "Valor real:24.500 valor estimado 21.288\n",
      "Valor real:26.200 valor estimado 24.080\n",
      "Valor real:24.400 valor estimado 24.206\n",
      "Valor real:24.800 valor estimado 25.042\n",
      "Valor real:29.600 valor estimado 24.920\n",
      "Valor real:42.800 valor estimado 29.946\n",
      "Valor real:21.900 valor estimado 23.972\n",
      "Valor real:20.900 valor estimado 21.696\n",
      "Valor real:44.000 valor estimado 37.511\n",
      "Valor real:50.000 valor estimado 43.302\n",
      "Valor real:36.000 valor estimado 36.484\n",
      "Valor real:30.100 valor estimado 34.990\n",
      "Valor real:33.800 valor estimado 34.812\n",
      "Valor real:43.100 valor estimado 37.166\n",
      "Valor real:48.800 valor estimado 40.989\n",
      "Valor real:31.000 valor estimado 34.446\n",
      "Valor real:36.500 valor estimado 35.834\n",
      "Valor real:22.800 valor estimado 28.246\n",
      "Valor real:30.700 valor estimado 31.227\n",
      "Valor real:50.000 valor estimado 40.840\n",
      "Valor real:43.500 valor estimado 39.318\n",
      "Valor real:20.700 valor estimado 25.708\n",
      "Valor real:21.100 valor estimado 22.303\n",
      "Valor real:25.200 valor estimado 27.203\n",
      "Valor real:24.400 valor estimado 28.512\n",
      "Valor real:35.200 valor estimado 35.477\n",
      "Valor real:32.400 valor estimado 36.106\n",
      "Valor real:32.000 valor estimado 33.797\n",
      "Valor real:33.200 valor estimado 35.611\n",
      "Valor real:33.100 valor estimado 34.840\n",
      "Valor real:29.100 valor estimado 30.352\n",
      "Valor real:35.100 valor estimado 35.310\n",
      "Valor real:45.400 valor estimado 38.798\n",
      "Valor real:35.400 valor estimado 34.331\n",
      "Valor real:46.000 valor estimado 40.340\n",
      "Valor real:50.000 valor estimado 44.673\n",
      "Valor real:32.200 valor estimado 31.597\n",
      "Valor real:22.000 valor estimado 27.357\n",
      "Valor real:20.100 valor estimado 20.102\n",
      "Valor real:23.200 valor estimado 27.042\n",
      "Valor real:22.300 valor estimado 27.214\n",
      "Valor real:24.800 valor estimado 26.914\n",
      "Valor real:28.500 valor estimado 33.436\n",
      "Valor real:37.300 valor estimado 34.403\n",
      "Valor real:27.900 valor estimado 31.833\n",
      "Valor real:23.900 valor estimado 25.818\n",
      "Valor real:21.700 valor estimado 24.430\n",
      "Valor real:28.600 valor estimado 28.458\n",
      "Valor real:27.100 valor estimado 27.363\n",
      "Valor real:20.300 valor estimado 19.539\n",
      "Valor real:22.500 valor estimado 29.113\n",
      "Valor real:29.000 valor estimado 31.911\n",
      "Valor real:24.800 valor estimado 30.772\n",
      "Valor real:22.000 valor estimado 28.943\n",
      "Valor real:26.400 valor estimado 28.882\n",
      "Valor real:33.100 valor estimado 32.799\n",
      "Valor real:36.100 valor estimado 33.209\n",
      "Valor real:28.400 valor estimado 30.768\n",
      "Valor real:33.400 valor estimado 35.562\n",
      "Valor real:28.200 valor estimado 32.709\n",
      "Valor real:22.800 valor estimado 28.642\n",
      "Valor real:20.300 valor estimado 23.590\n",
      "Valor real:16.100 valor estimado 18.543\n",
      "Valor real:22.100 valor estimado 26.879\n",
      "Valor real:19.400 valor estimado 23.281\n",
      "Valor real:21.600 valor estimado 25.546\n",
      "Valor real:23.800 valor estimado 25.481\n",
      "Valor real:16.200 valor estimado 20.539\n",
      "Valor real:17.800 valor estimado 17.616\n",
      "Valor real:19.800 valor estimado 18.376\n",
      "Valor real:23.100 valor estimado 24.291\n",
      "Valor real:21.000 valor estimado 21.325\n",
      "Valor real:23.800 valor estimado 24.887\n",
      "Valor real:23.100 valor estimado 24.869\n",
      "Valor real:20.400 valor estimado 22.870\n",
      "Valor real:18.500 valor estimado 19.451\n",
      "Valor real:25.000 valor estimado 25.118\n",
      "Valor real:24.600 valor estimado 24.668\n",
      "Valor real:23.000 valor estimado 23.681\n",
      "Valor real:22.200 valor estimado 19.341\n",
      "Valor real:19.300 valor estimado 21.174\n",
      "Valor real:22.600 valor estimado 24.252\n",
      "Valor real:19.800 valor estimado 21.593\n",
      "Valor real:17.100 valor estimado 19.984\n",
      "Valor real:19.400 valor estimado 23.339\n",
      "Valor real:22.200 valor estimado 22.141\n",
      "Valor real:20.700 valor estimado 21.555\n",
      "Valor real:21.100 valor estimado 20.619\n",
      "Valor real:19.500 valor estimado 20.161\n",
      "Valor real:18.500 valor estimado 19.285\n",
      "Valor real:20.600 valor estimado 22.167\n",
      "Valor real:19.000 valor estimado 21.250\n",
      "Valor real:18.700 valor estimado 21.429\n",
      "Valor real:32.700 valor estimado 30.328\n",
      "Valor real:16.500 valor estimado 22.047\n",
      "Valor real:23.900 valor estimado 27.706\n",
      "Valor real:31.200 valor estimado 28.548\n",
      "Valor real:17.500 valor estimado 16.545\n",
      "Valor real:17.200 valor estimado 14.784\n",
      "Valor real:23.100 valor estimado 25.274\n",
      "Valor real:24.500 valor estimado 27.542\n",
      "Valor real:26.600 valor estimado 22.148\n",
      "Valor real:22.900 valor estimado 20.459\n",
      "Valor real:24.100 valor estimado 20.546\n",
      "Valor real:18.600 valor estimado 16.881\n",
      "Valor real:30.100 valor estimado 25.403\n",
      "Valor real:18.200 valor estimado 14.325\n",
      "Valor real:20.600 valor estimado 16.595\n",
      "Valor real:17.800 valor estimado 19.637\n",
      "Valor real:21.700 valor estimado 22.718\n",
      "Valor real:22.700 valor estimado 22.202\n",
      "Valor real:22.600 valor estimado 19.205\n",
      "Valor real:25.000 valor estimado 22.666\n",
      "Valor real:19.900 valor estimado 18.932\n",
      "Valor real:20.800 valor estimado 18.228\n",
      "Valor real:16.800 valor estimado 20.232\n",
      "Valor real:21.900 valor estimado 37.494\n",
      "Valor real:27.500 valor estimado 14.282\n",
      "Valor real:21.900 valor estimado 15.543\n",
      "Valor real:23.100 valor estimado 10.832\n",
      "Valor real:50.000 valor estimado 23.801\n",
      "Valor real:50.000 valor estimado 32.644\n",
      "Valor real:50.000 valor estimado 34.607\n",
      "Valor real:50.000 valor estimado 24.943\n",
      "Valor real:50.000 valor estimado 26.000\n",
      "Valor real:13.800 valor estimado 6.126\n",
      "Valor real:13.800 valor estimado 0.778\n",
      "Valor real:15.000 valor estimado 25.307\n",
      "Valor real:13.900 valor estimado 17.741\n",
      "Valor real:13.300 valor estimado 20.233\n",
      "Valor real:13.100 valor estimado 15.833\n",
      "Valor real:10.200 valor estimado 16.835\n",
      "Valor real:10.400 valor estimado 14.370\n",
      "Valor real:10.900 valor estimado 18.477\n",
      "Valor real:11.300 valor estimado 13.428\n",
      "Valor real:12.300 valor estimado 13.062\n",
      "Valor real:8.800 valor estimado 3.279\n",
      "Valor real:7.200 valor estimado 8.060\n",
      "Valor real:10.500 valor estimado 6.128\n",
      "Valor real:7.400 valor estimado 5.619\n",
      "Valor real:10.200 valor estimado 6.452\n",
      "Valor real:11.500 valor estimado 14.208\n",
      "Valor real:15.100 valor estimado 17.212\n",
      "Valor real:23.200 valor estimado 17.299\n",
      "Valor real:9.700 valor estimado 9.891\n",
      "Valor real:13.800 valor estimado 20.221\n",
      "Valor real:12.700 valor estimado 17.942\n",
      "Valor real:13.100 valor estimado 20.304\n",
      "Valor real:12.500 valor estimado 19.296\n",
      "Valor real:8.500 valor estimado 16.336\n",
      "Valor real:5.000 valor estimado 6.552\n",
      "Valor real:6.300 valor estimado 10.890\n",
      "Valor real:5.600 valor estimado 11.881\n",
      "Valor real:7.200 valor estimado 17.812\n",
      "Valor real:12.100 valor estimado 18.261\n",
      "Valor real:8.300 valor estimado 12.979\n",
      "Valor real:8.500 valor estimado 7.378\n",
      "Valor real:5.000 valor estimado 8.211\n",
      "Valor real:11.900 valor estimado 8.066\n",
      "Valor real:27.900 valor estimado 19.983\n",
      "Valor real:17.200 valor estimado 13.708\n",
      "Valor real:27.500 valor estimado 19.853\n",
      "Valor real:15.000 valor estimado 15.223\n",
      "Valor real:17.200 valor estimado 16.961\n",
      "Valor real:17.900 valor estimado 1.719\n",
      "Valor real:16.300 valor estimado 11.806\n",
      "Valor real:7.000 valor estimado -4.281\n",
      "Valor real:7.200 valor estimado 9.584\n",
      "Valor real:7.500 valor estimado 13.367\n",
      "Valor real:10.400 valor estimado 6.896\n",
      "Valor real:8.800 valor estimado 6.148\n",
      "Valor real:8.400 valor estimado 14.607\n",
      "Valor real:16.700 valor estimado 19.600\n",
      "Valor real:14.200 valor estimado 18.124\n",
      "Valor real:20.800 valor estimado 18.522\n",
      "Valor real:13.400 valor estimado 13.175\n",
      "Valor real:11.700 valor estimado 14.626\n",
      "Valor real:8.300 valor estimado 9.924\n",
      "Valor real:10.200 valor estimado 16.346\n",
      "Valor real:10.900 valor estimado 14.075\n",
      "Valor real:11.000 valor estimado 14.258\n",
      "Valor real:9.500 valor estimado 13.042\n",
      "Valor real:14.500 valor estimado 18.160\n",
      "Valor real:14.100 valor estimado 18.696\n",
      "Valor real:16.100 valor estimado 21.527\n",
      "Valor real:14.300 valor estimado 17.031\n",
      "Valor real:11.700 valor estimado 15.961\n",
      "Valor real:13.400 valor estimado 13.361\n",
      "Valor real:9.600 valor estimado 14.521\n",
      "Valor real:8.700 valor estimado 8.820\n",
      "Valor real:8.400 valor estimado 4.868\n",
      "Valor real:12.800 valor estimado 13.066\n",
      "Valor real:10.500 valor estimado 12.706\n",
      "Valor real:17.100 valor estimado 17.296\n",
      "Valor real:18.400 valor estimado 18.740\n",
      "Valor real:15.400 valor estimado 18.059\n",
      "Valor real:10.800 valor estimado 11.515\n",
      "Valor real:11.800 valor estimado 11.974\n",
      "Valor real:14.900 valor estimado 17.683\n",
      "Valor real:12.600 valor estimado 18.127\n",
      "Valor real:14.100 valor estimado 17.518\n",
      "Valor real:13.000 valor estimado 17.227\n",
      "Valor real:13.400 valor estimado 16.523\n",
      "Valor real:15.200 valor estimado 19.413\n",
      "Valor real:16.100 valor estimado 18.582\n",
      "Valor real:17.800 valor estimado 22.489\n",
      "Valor real:14.900 valor estimado 15.280\n",
      "Valor real:14.100 valor estimado 15.821\n",
      "Valor real:12.700 valor estimado 12.687\n",
      "Valor real:13.500 valor estimado 12.876\n",
      "Valor real:14.900 valor estimado 17.187\n",
      "Valor real:20.000 valor estimado 18.512\n",
      "Valor real:16.400 valor estimado 19.049\n",
      "Valor real:17.700 valor estimado 20.172\n",
      "Valor real:19.500 valor estimado 19.774\n",
      "Valor real:20.200 valor estimado 22.429\n",
      "Valor real:21.400 valor estimado 20.319\n",
      "Valor real:19.900 valor estimado 17.886\n",
      "Valor real:19.000 valor estimado 14.375\n",
      "Valor real:19.100 valor estimado 16.948\n",
      "Valor real:19.100 valor estimado 16.984\n",
      "Valor real:20.100 valor estimado 18.588\n",
      "Valor real:19.900 valor estimado 20.167\n",
      "Valor real:19.600 valor estimado 22.977\n",
      "Valor real:23.200 valor estimado 22.456\n",
      "Valor real:29.800 valor estimado 25.578\n",
      "Valor real:13.800 valor estimado 16.391\n",
      "Valor real:13.300 valor estimado 16.111\n",
      "Valor real:16.700 valor estimado 20.535\n",
      "Valor real:12.000 valor estimado 11.543\n",
      "Valor real:14.600 valor estimado 19.205\n",
      "Valor real:21.400 valor estimado 21.863\n",
      "Valor real:23.000 valor estimado 23.469\n",
      "Valor real:23.700 valor estimado 27.099\n",
      "Valor real:25.000 valor estimado 28.570\n",
      "Valor real:21.800 valor estimado 21.084\n",
      "Valor real:20.600 valor estimado 19.455\n",
      "Valor real:21.200 valor estimado 22.222\n",
      "Valor real:19.100 valor estimado 19.656\n",
      "Valor real:20.600 valor estimado 21.325\n",
      "Valor real:15.200 valor estimado 11.856\n",
      "Valor real:7.000 valor estimado 8.224\n",
      "Valor real:8.100 valor estimado 3.664\n",
      "Valor real:13.600 valor estimado 13.759\n",
      "Valor real:20.100 valor estimado 15.931\n",
      "Valor real:21.800 valor estimado 20.627\n",
      "Valor real:24.500 valor estimado 20.612\n",
      "Valor real:23.100 valor estimado 16.885\n",
      "Valor real:19.700 valor estimado 14.013\n",
      "Valor real:18.300 valor estimado 19.109\n",
      "Valor real:21.200 valor estimado 21.298\n",
      "Valor real:17.500 valor estimado 18.455\n",
      "Valor real:16.800 valor estimado 20.469\n",
      "Valor real:22.400 valor estimado 23.533\n",
      "Valor real:20.600 valor estimado 22.376\n",
      "Valor real:23.900 valor estimado 27.627\n",
      "Valor real:22.000 valor estimado 26.128\n",
      "Valor real:11.900 valor estimado 22.344\n"
     ]
    }
   ],
   "source": [
    "for y, y_pred in list(zip(variable_objetivo, predicciones)):\n",
    "    print(\"Valor real:{:.3f} valor estimado {:.3f}\".format(y,y_pred))"
   ]
  },
  {
   "cell_type": "code",
   "execution_count": 18,
   "id": "ddf4b000",
   "metadata": {},
   "outputs": [],
   "source": [
    "from sklearn.model_selection import train_test_split"
   ]
  },
  {
   "cell_type": "code",
   "execution_count": 19,
   "id": "202d93fe",
   "metadata": {},
   "outputs": [],
   "source": [
    "X_train,X_test,y_train,y_test = train_test_split(\n",
    "dataset['data'], dataset['target'],test_size=0.33,random_state = 13\n",
    ")"
   ]
  },
  {
   "cell_type": "code",
   "execution_count": 20,
   "id": "15ec3014",
   "metadata": {},
   "outputs": [
    {
     "name": "stdout",
     "output_type": "stream",
     "text": [
      "(339, 13) (339,)\n"
     ]
    }
   ],
   "source": [
    "print(X_train.shape,y_train.shape)"
   ]
  },
  {
   "cell_type": "code",
   "execution_count": 21,
   "id": "1310aaee",
   "metadata": {},
   "outputs": [],
   "source": [
    "modelo_ols = LinearRegression()\n",
    "modelo_ols.fit(X = X_train, y = y_train)\n",
    "modelo_ols_test_pred = modelo_ols.predict(X_test)"
   ]
  },
  {
   "cell_type": "code",
   "execution_count": 22,
   "id": "aebfd5e9",
   "metadata": {},
   "outputs": [
    {
     "data": {
      "text/plain": [
       "array([11.1181241 , 20.02974691, 20.5746672 , 30.41171879, 23.32848703,\n",
       "       22.42441221, 22.14492318, 22.89252978, 20.26600148, -0.04883524,\n",
       "       20.20437131, 19.36264001, 36.78834425, 11.11897389, 15.02788501,\n",
       "       18.38108925, 16.52241948, 22.97461589, 30.98177221, 21.84003601,\n",
       "       37.58925166, 30.93450191, 22.85187104, 13.96410224, 18.85726247,\n",
       "        6.29285724, 36.7482275 , 16.53789027, 16.6241863 , 19.96537789,\n",
       "       29.13110516,  4.78081758, -6.19003441, 20.63723318, 23.46466111,\n",
       "       14.67044374, 19.84355547, 16.86066863, 34.20527487, 16.86981078,\n",
       "       17.18989961, 20.80817385, 37.08581609, 12.39145328, 15.63933625,\n",
       "       36.4661752 , 14.38373492,  3.04925549, 21.91365219, 20.45090647,\n",
       "       36.21208264,  9.5526054 , 41.97555643, 16.55466378, 21.99761093,\n",
       "       20.84730367, 20.29276752, 33.00344738, 33.64603598, 24.42448439,\n",
       "       23.1032168 , 12.70777089, 20.92514449, 20.08105321, 22.13259518,\n",
       "       30.23204192, 28.31939055, 16.72057351, 18.04465183, 20.68909184,\n",
       "       22.76470892, 18.394211  , 18.07902227, 21.13602424, 26.66188089,\n",
       "       15.71677506, 34.89701066, 20.21858037, 39.94086914, 25.74257035,\n",
       "       19.16705739, 22.43559067, 23.82815143, 13.66850782, 31.94661404,\n",
       "       25.00971018, 27.14013765,  3.29894744, 32.0906011 , 13.26701858,\n",
       "       36.89374475, 22.7132095 , 10.89532663, 10.84599549, 18.58492617,\n",
       "       20.31281395, 18.70669102, 17.13103034, 26.80575419, 20.36147447,\n",
       "       22.54945402, 20.44194251, 24.0572405 , 29.53828914, 25.98463833,\n",
       "       20.78407596, 25.94060959, 25.27162801, 25.10401027, 16.21555654,\n",
       "       19.26358204, 40.88876384, 17.2101695 , 23.21413775, 30.18874635,\n",
       "       18.54707204, 13.18763499, 21.77995974,  8.12376766, 30.44847838,\n",
       "       32.41726293, 39.40491456, 25.76810181, 23.58342439, 25.10003848,\n",
       "        7.54769497, 38.06951491, 18.72627692, 34.9229539 , 19.69465516,\n",
       "       17.25801838, 20.10263934, 13.84356299,  5.29430151, 20.7879212 ,\n",
       "       27.2251958 , 23.10343722, 20.32471555, 23.7168879 , 29.36812485,\n",
       "       33.36959548, 31.11817738, 19.42051408, 31.17697832, 19.85313591,\n",
       "       27.42378103, 19.47078151, 25.98301616, 20.63212952, 28.79187476,\n",
       "       35.13102197, 26.75862666, 15.7493189 ,  7.16627257, 29.66591271,\n",
       "       24.1971756 , 29.88397217,  6.28869889, 19.39983496, 24.18127166,\n",
       "       21.77528051, 20.8243565 , 34.09406451, 28.43971354, 26.59707899,\n",
       "       20.5609674 , 24.76387633])"
      ]
     },
     "execution_count": 22,
     "metadata": {},
     "output_type": "execute_result"
    }
   ],
   "source": [
    "modelo_ols_test_pred"
   ]
  },
  {
   "cell_type": "code",
   "execution_count": 23,
   "id": "76600225",
   "metadata": {},
   "outputs": [],
   "source": [
    "from sklearn import metrics\n",
    "import numpy as np\n",
    "# errores\n",
    "def rmse(objetivo, estimaciones):\n",
    "    return np.sqrt(metrics.mean_squared_error(objetivo, estimaciones))\n",
    "def evaluar_modelo(objetivo,estimaciones):\n",
    "    return{\"rmse\":rmse(objetivo,estimaciones)}\n"
   ]
  },
  {
   "cell_type": "code",
   "execution_count": 24,
   "id": "4216faca",
   "metadata": {},
   "outputs": [
    {
     "data": {
      "text/plain": [
       "{'rmse': 4.78417825175069}"
      ]
     },
     "execution_count": 24,
     "metadata": {},
     "output_type": "execute_result"
    }
   ],
   "source": [
    "evaluar_modelo(y_test, modelo_ols_test_pred)"
   ]
  },
  {
   "cell_type": "code",
   "execution_count": 27,
   "id": "13ed17c0",
   "metadata": {},
   "outputs": [],
   "source": [
    "modelo_ols = LinearRegression()\n",
    "def test_semilla(valor):\n",
    "    X_train,X_test,y_train,y_test = train_test_split(\n",
    "    dataset['data'], dataset['target'],test_size=0.33,random_state = valor)\n",
    "    y_test_pred = modelo_ols.fit(X = X_train, y = y_train).predict(X_test)\n",
    "    return [rmse(y_test,y_test_pred), valor]\n",
    "    #print(rmse(y_test,y_test_pred), valor)"
   ]
  },
  {
   "cell_type": "code",
   "execution_count": 28,
   "id": "4ce27264",
   "metadata": {},
   "outputs": [],
   "source": [
    "resultado = []\n",
    "for i in range(1000):\n",
    "    resultado.append(test_semilla(i))"
   ]
  },
  {
   "cell_type": "code",
   "execution_count": 29,
   "id": "07c7f8cb",
   "metadata": {},
   "outputs": [
    {
     "data": {
      "text/plain": [
       "[[5.15350190084766, 0],\n",
       " [4.549557752626553, 1],\n",
       " [4.817966577147588, 2],\n",
       " [4.822833248024285, 3],\n",
       " [5.559184699608027, 4],\n",
       " [5.341391089030524, 5],\n",
       " [5.159716427550119, 6],\n",
       " [5.032127524575094, 7],\n",
       " [4.9389395266504525, 8],\n",
       " [4.309052644211477, 9]]"
      ]
     },
     "execution_count": 29,
     "metadata": {},
     "output_type": "execute_result"
    }
   ],
   "source": [
    "resultado[:10]"
   ]
  },
  {
   "cell_type": "code",
   "execution_count": 30,
   "id": "0bafc3d8",
   "metadata": {},
   "outputs": [],
   "source": [
    "resultado_ordenado = sorted(resultado, key = lambda x:x[0], reverse=False)"
   ]
  },
  {
   "cell_type": "code",
   "execution_count": 31,
   "id": "2b3b5d68",
   "metadata": {},
   "outputs": [
    {
     "data": {
      "text/plain": [
       "[4.041779457744048, 46]"
      ]
     },
     "execution_count": 31,
     "metadata": {},
     "output_type": "execute_result"
    }
   ],
   "source": [
    "resultado_ordenado[0]"
   ]
  },
  {
   "cell_type": "code",
   "execution_count": 32,
   "id": "9f9649f7",
   "metadata": {},
   "outputs": [
    {
     "data": {
      "text/plain": [
       "[5.849716994424014, 38]"
      ]
     },
     "execution_count": 32,
     "metadata": {},
     "output_type": "execute_result"
    }
   ],
   "source": [
    "resultado_ordenado[-1]"
   ]
  },
  {
   "cell_type": "code",
   "execution_count": 33,
   "id": "6220ff17",
   "metadata": {},
   "outputs": [],
   "source": [
    "#Validación Cruzada (Cross Validation)\n",
    "from sklearn.model_selection import cross_val_score"
   ]
  },
  {
   "cell_type": "code",
   "execution_count": 34,
   "id": "db8015cc",
   "metadata": {},
   "outputs": [],
   "source": [
    "cross_val_score?"
   ]
  },
  {
   "cell_type": "code",
   "execution_count": 36,
   "id": "28c49b1e",
   "metadata": {},
   "outputs": [],
   "source": [
    "modelo_ols = LinearRegression()\n",
    "X = dataset[\"data\"]\n",
    "y = dataset[\"target\"]\n",
    "\n",
    "resultado_validacion_cruzada = cross_val_score(estimator=modelo_ols, X=X, y=y,\n",
    "                                               scoring='neg_root_mean_squared_error',\n",
    "                                              cv = 20)"
   ]
  },
  {
   "cell_type": "code",
   "execution_count": 37,
   "id": "af16fd15",
   "metadata": {},
   "outputs": [
    {
     "data": {
      "text/plain": [
       "array([ -3.54178214,  -2.37689828,  -3.38041102,  -3.79913557,\n",
       "        -2.373405  ,  -4.42740416,  -6.25642488,  -5.68244448,\n",
       "        -5.49467653,  -4.9630827 ,  -4.90029933,  -4.05946409,\n",
       "        -2.91959801,  -3.25695935, -16.48591366,  -5.84795122,\n",
       "        -6.30566266,  -3.90045818,  -2.46880188,  -3.93761578])"
      ]
     },
     "execution_count": 37,
     "metadata": {},
     "output_type": "execute_result"
    }
   ],
   "source": [
    "resultado_validacion_cruzada"
   ]
  },
  {
   "cell_type": "code",
   "execution_count": 38,
   "id": "87ddcae3",
   "metadata": {},
   "outputs": [
    {
     "data": {
      "text/plain": [
       "-4.81891944621545"
      ]
     },
     "execution_count": 38,
     "metadata": {},
     "output_type": "execute_result"
    }
   ],
   "source": [
    "resultado_validacion_cruzada.mean()"
   ]
  },
  {
   "cell_type": "code",
   "execution_count": 51,
   "id": "21e59527",
   "metadata": {},
   "outputs": [],
   "source": [
    "resultado_cv = []\n",
    "for i in range(10,500,10):\n",
    "    cv_rmse = cross_val_score(estimator=modelo_ols, X=X, y=y,\n",
    "                                               scoring='neg_root_mean_squared_error',\n",
    "                                              cv = i).mean()\n",
    "    resultado_cv.append(cv_rmse)\n",
    "    "
   ]
  },
  {
   "cell_type": "code",
   "execution_count": null,
   "id": "eee0b87b",
   "metadata": {},
   "outputs": [],
   "source": [
    "resultado_cv"
   ]
  },
  {
   "cell_type": "code",
   "execution_count": 43,
   "id": "839d069d",
   "metadata": {},
   "outputs": [],
   "source": [
    "import matplotlib.pyplot as plt\n",
    "plt.style.use('seaborn-dark')"
   ]
  },
  {
   "cell_type": "code",
   "execution_count": 52,
   "id": "5546960c",
   "metadata": {},
   "outputs": [
    {
     "data": {
      "text/plain": [
       "[<matplotlib.lines.Line2D at 0x2732ffb0dc0>]"
      ]
     },
     "execution_count": 52,
     "metadata": {},
     "output_type": "execute_result"
    },
    {
     "data": {
      "image/png": "[encoded data removed]",
      "text/plain": [
       "<Figure size 432x288 with 1 Axes>"
      ]
     },
     "metadata": {},
     "output_type": "display_data"
    }
   ],
   "source": [
    "plt.plot(resultado_cv)\n",
    "plt.show()"
   ]
  },
  {
   "cell_type": "code",
   "execution_count": 53,
   "id": "9fbcf63e",
   "metadata": {},
   "outputs": [],
   "source": [
    "# cross_validate permite aplicar mas de un algoritmo de calculo de error\n",
    "# los algoritmos de error se pasan como un diccionario\n",
    "from sklearn.model_selection import cross_validate\n",
    "cross_validate?"
   ]
  },
  {
   "cell_type": "code",
   "execution_count": 59,
   "id": "4434f841",
   "metadata": {},
   "outputs": [],
   "source": [
    "score_error = {\"mae\":\"neg_mean_absolute_error\", \"rmse\":\"neg_root_mean_squared_error\"}\n",
    "resultados_cvalidate = cross_validate(estimator=modelo_ols, X=X,y=y,\n",
    "                                     scoring=score_error,cv=50,\n",
    "                                     return_train_score=True)"
   ]
  },
  {
   "cell_type": "code",
   "execution_count": 60,
   "id": "af24932e",
   "metadata": {},
   "outputs": [
    {
     "data": {
      "text/plain": [
       "fit_time      0.000875\n",
       "score_time    0.000598\n",
       "test_mae     -3.623136\n",
       "train_mae    -3.270157\n",
       "test_rmse    -4.444662\n",
       "train_rmse   -4.671803\n",
       "dtype: float64"
      ]
     },
     "execution_count": 60,
     "metadata": {},
     "output_type": "execute_result"
    }
   ],
   "source": [
    "import pandas as pd\n",
    "pd.DataFrame(resultados_cvalidate).mean()"
   ]
  },
  {
   "cell_type": "code",
   "execution_count": null,
   "id": "65f44f7b",
   "metadata": {},
   "outputs": [],
   "source": []
  }
 ],
 "metadata": {
  "kernelspec": {
   "display_name": "Python 3 (ipykernel)",
   "language": "python",
   "name": "python3"
  },
  "language_info": {
   "codemirror_mode": {
    "name": "ipython",
    "version": 3
   },
   "file_extension": ".py",
   "mimetype": "text/x-python",
   "name": "python",
   "nbconvert_exporter": "python",
   "pygments_lexer": "ipython3",
   "version": "3.9.7"
  }
 },
 "nbformat": 4,
 "nbformat_minor": 5
}
