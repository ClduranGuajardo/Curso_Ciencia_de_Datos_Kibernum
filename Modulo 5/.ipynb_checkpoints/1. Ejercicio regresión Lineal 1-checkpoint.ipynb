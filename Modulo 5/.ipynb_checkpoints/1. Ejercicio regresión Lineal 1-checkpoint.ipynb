{
 "cells": [
  {
   "cell_type": "code",
   "execution_count": 2,
   "id": "4b5a626f",
   "metadata": {},
   "outputs": [],
   "source": [
    "import pandas as pd\n",
    "import numpy as np\n",
    "import matplotlib.pyplot as plt\n",
    "plt.style.use('seaborn-dark')"
   ]
  },
  {
   "cell_type": "code",
   "execution_count": 3,
   "id": "422b4739",
   "metadata": {},
   "outputs": [],
   "source": [
    "vehiculos = pd.read_csv(\"vehiculos_procesado.csv\", usecols = [\"consumo\",\"cilindros\",\"desplazamiento\", \"co2\"])\n",
    "litros_por_galon = 3.78541\n",
    "vehiculos[\"consumo_litros_milla\"] = litros_por_galon / vehiculos.consumo                        "
   ]
  },
  {
   "cell_type": "code",
   "execution_count": 4,
   "id": "d82992ed",
   "metadata": {},
   "outputs": [
    {
     "data": {
      "text/plain": [
       "(35539, 5)"
      ]
     },
     "execution_count": 4,
     "metadata": {},
     "output_type": "execute_result"
    }
   ],
   "source": [
    "vehiculos.shape"
   ]
  },
  {
   "cell_type": "code",
   "execution_count": 5,
   "id": "a15a8bfa",
   "metadata": {},
   "outputs": [
    {
     "data": {
      "text/html": [
       "<div>\n",
       "<style scoped>\n",
       "    .dataframe tbody tr th:only-of-type {\n",
       "        vertical-align: middle;\n",
       "    }\n",
       "\n",
       "    .dataframe tbody tr th {\n",
       "        vertical-align: top;\n",
       "    }\n",
       "\n",
       "    .dataframe thead th {\n",
       "        text-align: right;\n",
       "    }\n",
       "</style>\n",
       "<table border=\"1\" class=\"dataframe\">\n",
       "  <thead>\n",
       "    <tr style=\"text-align: right;\">\n",
       "      <th></th>\n",
       "      <th>desplazamiento</th>\n",
       "      <th>cilindros</th>\n",
       "      <th>consumo</th>\n",
       "      <th>co2</th>\n",
       "      <th>consumo_litros_milla</th>\n",
       "    </tr>\n",
       "  </thead>\n",
       "  <tbody>\n",
       "    <tr>\n",
       "      <th>0</th>\n",
       "      <td>2.5</td>\n",
       "      <td>4.0</td>\n",
       "      <td>17</td>\n",
       "      <td>522.764706</td>\n",
       "      <td>0.222671</td>\n",
       "    </tr>\n",
       "    <tr>\n",
       "      <th>1</th>\n",
       "      <td>4.2</td>\n",
       "      <td>6.0</td>\n",
       "      <td>13</td>\n",
       "      <td>683.615385</td>\n",
       "      <td>0.291185</td>\n",
       "    </tr>\n",
       "    <tr>\n",
       "      <th>2</th>\n",
       "      <td>2.5</td>\n",
       "      <td>4.0</td>\n",
       "      <td>16</td>\n",
       "      <td>555.437500</td>\n",
       "      <td>0.236588</td>\n",
       "    </tr>\n",
       "    <tr>\n",
       "      <th>3</th>\n",
       "      <td>4.2</td>\n",
       "      <td>6.0</td>\n",
       "      <td>13</td>\n",
       "      <td>683.615385</td>\n",
       "      <td>0.291185</td>\n",
       "    </tr>\n",
       "    <tr>\n",
       "      <th>4</th>\n",
       "      <td>3.8</td>\n",
       "      <td>6.0</td>\n",
       "      <td>16</td>\n",
       "      <td>555.437500</td>\n",
       "      <td>0.236588</td>\n",
       "    </tr>\n",
       "  </tbody>\n",
       "</table>\n",
       "</div>"
      ],
      "text/plain": [
       "   desplazamiento  cilindros  consumo         co2  consumo_litros_milla\n",
       "0             2.5        4.0       17  522.764706              0.222671\n",
       "1             4.2        6.0       13  683.615385              0.291185\n",
       "2             2.5        4.0       16  555.437500              0.236588\n",
       "3             4.2        6.0       13  683.615385              0.291185\n",
       "4             3.8        6.0       16  555.437500              0.236588"
      ]
     },
     "execution_count": 5,
     "metadata": {},
     "output_type": "execute_result"
    }
   ],
   "source": [
    "vehiculos.head()"
   ]
  },
  {
   "cell_type": "code",
   "execution_count": 6,
   "id": "1273c617",
   "metadata": {},
   "outputs": [],
   "source": [
    "from IPython.display import Image\n",
    "#mostrar imagen de formula de regresión lineal"
   ]
  },
  {
   "cell_type": "code",
   "execution_count": 8,
   "id": "b482e769",
   "metadata": {},
   "outputs": [
    {
     "name": "stdout",
     "output_type": "stream",
     "text": [
      "(28431, 5)\n",
      "(7108, 5)\n"
     ]
    }
   ],
   "source": [
    "pct_entranamiento = 0.8\n",
    "vehiculos_train = vehiculos.sample(frac = pct_entranamiento)\n",
    "vehiculos_test = vehiculos[~vehiculos.index.isin(vehiculos_train.index)]\n",
    "\n",
    "print(vehiculos_train.shape)\n",
    "print(vehiculos_test.shape)"
   ]
  },
  {
   "cell_type": "code",
   "execution_count": 9,
   "id": "3b71cd5f",
   "metadata": {},
   "outputs": [],
   "source": [
    "variables_independientes = [\"desplazamiento\",\"cilindros\", \"consumo_litros_milla\"]\n",
    "variable_dependiente ='co2'\n",
    "\n",
    "X = vehiculos_train[variables_independientes].values\n",
    "y = vehiculos_train[variable_dependiente].values"
   ]
  },
  {
   "cell_type": "code",
   "execution_count": 10,
   "id": "37a1dbe4",
   "metadata": {},
   "outputs": [
    {
     "data": {
      "text/plain": [
       "array([[2.        , 4.        , 0.13519321],\n",
       "       [1.6       , 4.        , 0.14020037],\n",
       "       [3.7       , 6.        , 0.21030056],\n",
       "       ...,\n",
       "       [3.5       , 6.        , 0.1514164 ],\n",
       "       [3.3       , 6.        , 0.22267118],\n",
       "       [4.        , 6.        , 0.23658813]])"
      ]
     },
     "execution_count": 10,
     "metadata": {},
     "output_type": "execute_result"
    }
   ],
   "source": [
    "X"
   ]
  },
  {
   "cell_type": "code",
   "execution_count": 11,
   "id": "9eee4e81",
   "metadata": {},
   "outputs": [
    {
     "data": {
      "text/plain": [
       "array([317.        , 329.14814815, 493.72222222, ..., 358.        ,\n",
       "       522.76470588, 555.4375    ])"
      ]
     },
     "execution_count": 11,
     "metadata": {},
     "output_type": "execute_result"
    }
   ],
   "source": [
    "y"
   ]
  },
  {
   "cell_type": "code",
   "execution_count": 12,
   "id": "2ba0a22d",
   "metadata": {},
   "outputs": [
    {
     "data": {
      "text/plain": [
       "array([[2.        , 1.6       , 3.7       , ..., 3.5       , 3.3       ,\n",
       "        4.        ],\n",
       "       [4.        , 4.        , 6.        , ..., 6.        , 6.        ,\n",
       "        6.        ],\n",
       "       [0.13519321, 0.14020037, 0.21030056, ..., 0.1514164 , 0.22267118,\n",
       "        0.23658813]])"
      ]
     },
     "execution_count": 12,
     "metadata": {},
     "output_type": "execute_result"
    }
   ],
   "source": [
    "X_T = X.T\n",
    "X_T"
   ]
  },
  {
   "cell_type": "code",
   "execution_count": 15,
   "id": "6188f67c",
   "metadata": {},
   "outputs": [
    {
     "data": {
      "text/plain": [
       "array([ 3.73703682e+00, -6.20494994e-01,  2.30702088e+03])"
      ]
     },
     "execution_count": 15,
     "metadata": {},
     "output_type": "execute_result"
    }
   ],
   "source": [
    "# Calculos de los coeficientes Beta\n",
    "betas = np.linalg.inv(X_T @ X) @ X_T @ y\n",
    "betas"
   ]
  },
  {
   "cell_type": "code",
   "execution_count": 16,
   "id": "477d7b4e",
   "metadata": {},
   "outputs": [
    {
     "data": {
      "text/plain": [
       "0.35689448820812686"
      ]
     },
     "execution_count": 16,
     "metadata": {},
     "output_type": "execute_result"
    }
   ],
   "source": [
    "# Calculo de Alfa\n",
    "alfa = y.mean() - np.dot(betas,vehiculos_train[variables_independientes].mean().values)\n",
    "alfa"
   ]
  },
  {
   "cell_type": "code",
   "execution_count": 18,
   "id": "c5c82a20",
   "metadata": {},
   "outputs": [],
   "source": [
    "def predecir(r):\n",
    "    return alfa + np.dot(betas, r.values)"
   ]
  },
  {
   "cell_type": "code",
   "execution_count": 19,
   "id": "977ad2f9",
   "metadata": {},
   "outputs": [],
   "source": [
    "vehiculos_train[\"co2_pred\"] = vehiculos_train[variables_independientes].apply(\n",
    "predecir,axis = 1)"
   ]
  },
  {
   "cell_type": "code",
   "execution_count": 20,
   "id": "40e59797",
   "metadata": {},
   "outputs": [
    {
     "data": {
      "text/html": [
       "<div>\n",
       "<style scoped>\n",
       "    .dataframe tbody tr th:only-of-type {\n",
       "        vertical-align: middle;\n",
       "    }\n",
       "\n",
       "    .dataframe tbody tr th {\n",
       "        vertical-align: top;\n",
       "    }\n",
       "\n",
       "    .dataframe thead th {\n",
       "        text-align: right;\n",
       "    }\n",
       "</style>\n",
       "<table border=\"1\" class=\"dataframe\">\n",
       "  <thead>\n",
       "    <tr style=\"text-align: right;\">\n",
       "      <th></th>\n",
       "      <th>desplazamiento</th>\n",
       "      <th>cilindros</th>\n",
       "      <th>consumo</th>\n",
       "      <th>co2</th>\n",
       "      <th>consumo_litros_milla</th>\n",
       "      <th>co2_pred</th>\n",
       "    </tr>\n",
       "  </thead>\n",
       "  <tbody>\n",
       "    <tr>\n",
       "      <th>19973</th>\n",
       "      <td>2.0</td>\n",
       "      <td>4.0</td>\n",
       "      <td>28</td>\n",
       "      <td>317.000000</td>\n",
       "      <td>0.135193</td>\n",
       "      <td>317.242557</td>\n",
       "    </tr>\n",
       "    <tr>\n",
       "      <th>26520</th>\n",
       "      <td>1.6</td>\n",
       "      <td>4.0</td>\n",
       "      <td>27</td>\n",
       "      <td>329.148148</td>\n",
       "      <td>0.140200</td>\n",
       "      <td>327.299356</td>\n",
       "    </tr>\n",
       "    <tr>\n",
       "      <th>19670</th>\n",
       "      <td>3.7</td>\n",
       "      <td>6.0</td>\n",
       "      <td>18</td>\n",
       "      <td>493.722222</td>\n",
       "      <td>0.210301</td>\n",
       "      <td>495.628734</td>\n",
       "    </tr>\n",
       "    <tr>\n",
       "      <th>23437</th>\n",
       "      <td>3.2</td>\n",
       "      <td>6.0</td>\n",
       "      <td>21</td>\n",
       "      <td>423.190476</td>\n",
       "      <td>0.180258</td>\n",
       "      <td>424.450534</td>\n",
       "    </tr>\n",
       "    <tr>\n",
       "      <th>26391</th>\n",
       "      <td>4.0</td>\n",
       "      <td>6.0</td>\n",
       "      <td>16</td>\n",
       "      <td>555.437500</td>\n",
       "      <td>0.236588</td>\n",
       "      <td>557.395817</td>\n",
       "    </tr>\n",
       "    <tr>\n",
       "      <th>...</th>\n",
       "      <td>...</td>\n",
       "      <td>...</td>\n",
       "      <td>...</td>\n",
       "      <td>...</td>\n",
       "      <td>...</td>\n",
       "      <td>...</td>\n",
       "    </tr>\n",
       "    <tr>\n",
       "      <th>14991</th>\n",
       "      <td>4.3</td>\n",
       "      <td>6.0</td>\n",
       "      <td>16</td>\n",
       "      <td>555.437500</td>\n",
       "      <td>0.236588</td>\n",
       "      <td>558.516928</td>\n",
       "    </tr>\n",
       "    <tr>\n",
       "      <th>3120</th>\n",
       "      <td>4.9</td>\n",
       "      <td>8.0</td>\n",
       "      <td>15</td>\n",
       "      <td>592.466667</td>\n",
       "      <td>0.252361</td>\n",
       "      <td>595.905743</td>\n",
       "    </tr>\n",
       "    <tr>\n",
       "      <th>259</th>\n",
       "      <td>3.5</td>\n",
       "      <td>6.0</td>\n",
       "      <td>25</td>\n",
       "      <td>358.000000</td>\n",
       "      <td>0.151416</td>\n",
       "      <td>359.034350</td>\n",
       "    </tr>\n",
       "    <tr>\n",
       "      <th>26134</th>\n",
       "      <td>3.3</td>\n",
       "      <td>6.0</td>\n",
       "      <td>17</td>\n",
       "      <td>522.764706</td>\n",
       "      <td>0.222671</td>\n",
       "      <td>522.673200</td>\n",
       "    </tr>\n",
       "    <tr>\n",
       "      <th>19922</th>\n",
       "      <td>4.0</td>\n",
       "      <td>6.0</td>\n",
       "      <td>16</td>\n",
       "      <td>555.437500</td>\n",
       "      <td>0.236588</td>\n",
       "      <td>557.395817</td>\n",
       "    </tr>\n",
       "  </tbody>\n",
       "</table>\n",
       "<p>28431 rows × 6 columns</p>\n",
       "</div>"
      ],
      "text/plain": [
       "       desplazamiento  cilindros  consumo         co2  consumo_litros_milla  \\\n",
       "19973             2.0        4.0       28  317.000000              0.135193   \n",
       "26520             1.6        4.0       27  329.148148              0.140200   \n",
       "19670             3.7        6.0       18  493.722222              0.210301   \n",
       "23437             3.2        6.0       21  423.190476              0.180258   \n",
       "26391             4.0        6.0       16  555.437500              0.236588   \n",
       "...               ...        ...      ...         ...                   ...   \n",
       "14991             4.3        6.0       16  555.437500              0.236588   \n",
       "3120              4.9        8.0       15  592.466667              0.252361   \n",
       "259               3.5        6.0       25  358.000000              0.151416   \n",
       "26134             3.3        6.0       17  522.764706              0.222671   \n",
       "19922             4.0        6.0       16  555.437500              0.236588   \n",
       "\n",
       "         co2_pred  \n",
       "19973  317.242557  \n",
       "26520  327.299356  \n",
       "19670  495.628734  \n",
       "23437  424.450534  \n",
       "26391  557.395817  \n",
       "...           ...  \n",
       "14991  558.516928  \n",
       "3120   595.905743  \n",
       "259    359.034350  \n",
       "26134  522.673200  \n",
       "19922  557.395817  \n",
       "\n",
       "[28431 rows x 6 columns]"
      ]
     },
     "execution_count": 20,
     "metadata": {},
     "output_type": "execute_result"
    }
   ],
   "source": [
    "vehiculos_train"
   ]
  },
  {
   "cell_type": "code",
   "execution_count": 21,
   "id": "fa257cc1",
   "metadata": {},
   "outputs": [
    {
     "name": "stderr",
     "output_type": "stream",
     "text": [
      "C:\\Users\\Gamer\\AppData\\Local\\Temp/ipykernel_3240/1972542662.py:1: SettingWithCopyWarning: \n",
      "A value is trying to be set on a copy of a slice from a DataFrame.\n",
      "Try using .loc[row_indexer,col_indexer] = value instead\n",
      "\n",
      "See the caveats in the documentation: https://pandas.pydata.org/pandas-docs/stable/user_guide/indexing.html#returning-a-view-versus-a-copy\n",
      "  vehiculos_test[\"co2_pred\"] = vehiculos_test[variables_independientes].apply(\n"
     ]
    }
   ],
   "source": [
    "vehiculos_test[\"co2_pred\"] = vehiculos_test[variables_independientes].apply(\n",
    "predecir,axis = 1)"
   ]
  },
  {
   "cell_type": "code",
   "execution_count": 22,
   "id": "d8b83147",
   "metadata": {},
   "outputs": [
    {
     "data": {
      "text/html": [
       "<div>\n",
       "<style scoped>\n",
       "    .dataframe tbody tr th:only-of-type {\n",
       "        vertical-align: middle;\n",
       "    }\n",
       "\n",
       "    .dataframe tbody tr th {\n",
       "        vertical-align: top;\n",
       "    }\n",
       "\n",
       "    .dataframe thead th {\n",
       "        text-align: right;\n",
       "    }\n",
       "</style>\n",
       "<table border=\"1\" class=\"dataframe\">\n",
       "  <thead>\n",
       "    <tr style=\"text-align: right;\">\n",
       "      <th></th>\n",
       "      <th>desplazamiento</th>\n",
       "      <th>cilindros</th>\n",
       "      <th>consumo</th>\n",
       "      <th>co2</th>\n",
       "      <th>consumo_litros_milla</th>\n",
       "      <th>co2_pred</th>\n",
       "    </tr>\n",
       "  </thead>\n",
       "  <tbody>\n",
       "    <tr>\n",
       "      <th>3</th>\n",
       "      <td>4.2</td>\n",
       "      <td>6.0</td>\n",
       "      <td>13</td>\n",
       "      <td>683.615385</td>\n",
       "      <td>0.291185</td>\n",
       "      <td>684.100242</td>\n",
       "    </tr>\n",
       "    <tr>\n",
       "      <th>4</th>\n",
       "      <td>3.8</td>\n",
       "      <td>6.0</td>\n",
       "      <td>16</td>\n",
       "      <td>555.437500</td>\n",
       "      <td>0.236588</td>\n",
       "      <td>556.648409</td>\n",
       "    </tr>\n",
       "    <tr>\n",
       "      <th>8</th>\n",
       "      <td>2.3</td>\n",
       "      <td>4.0</td>\n",
       "      <td>22</td>\n",
       "      <td>403.954545</td>\n",
       "      <td>0.172064</td>\n",
       "      <td>403.425550</td>\n",
       "    </tr>\n",
       "    <tr>\n",
       "      <th>10</th>\n",
       "      <td>3.0</td>\n",
       "      <td>6.0</td>\n",
       "      <td>20</td>\n",
       "      <td>444.350000</td>\n",
       "      <td>0.189271</td>\n",
       "      <td>444.496031</td>\n",
       "    </tr>\n",
       "    <tr>\n",
       "      <th>14</th>\n",
       "      <td>2.5</td>\n",
       "      <td>5.0</td>\n",
       "      <td>20</td>\n",
       "      <td>444.350000</td>\n",
       "      <td>0.189271</td>\n",
       "      <td>443.248007</td>\n",
       "    </tr>\n",
       "    <tr>\n",
       "      <th>...</th>\n",
       "      <td>...</td>\n",
       "      <td>...</td>\n",
       "      <td>...</td>\n",
       "      <td>...</td>\n",
       "      <td>...</td>\n",
       "      <td>...</td>\n",
       "    </tr>\n",
       "    <tr>\n",
       "      <th>35502</th>\n",
       "      <td>2.0</td>\n",
       "      <td>4.0</td>\n",
       "      <td>25</td>\n",
       "      <td>353.000000</td>\n",
       "      <td>0.151416</td>\n",
       "      <td>354.669785</td>\n",
       "    </tr>\n",
       "    <tr>\n",
       "      <th>35520</th>\n",
       "      <td>5.6</td>\n",
       "      <td>8.0</td>\n",
       "      <td>13</td>\n",
       "      <td>683.615385</td>\n",
       "      <td>0.291185</td>\n",
       "      <td>688.091104</td>\n",
       "    </tr>\n",
       "    <tr>\n",
       "      <th>35522</th>\n",
       "      <td>5.6</td>\n",
       "      <td>8.0</td>\n",
       "      <td>13</td>\n",
       "      <td>683.615385</td>\n",
       "      <td>0.291185</td>\n",
       "      <td>688.091104</td>\n",
       "    </tr>\n",
       "    <tr>\n",
       "      <th>35526</th>\n",
       "      <td>5.6</td>\n",
       "      <td>8.0</td>\n",
       "      <td>13</td>\n",
       "      <td>683.615385</td>\n",
       "      <td>0.291185</td>\n",
       "      <td>688.091104</td>\n",
       "    </tr>\n",
       "    <tr>\n",
       "      <th>35537</th>\n",
       "      <td>1.3</td>\n",
       "      <td>4.0</td>\n",
       "      <td>25</td>\n",
       "      <td>355.480000</td>\n",
       "      <td>0.151416</td>\n",
       "      <td>352.053859</td>\n",
       "    </tr>\n",
       "  </tbody>\n",
       "</table>\n",
       "<p>7108 rows × 6 columns</p>\n",
       "</div>"
      ],
      "text/plain": [
       "       desplazamiento  cilindros  consumo         co2  consumo_litros_milla  \\\n",
       "3                 4.2        6.0       13  683.615385              0.291185   \n",
       "4                 3.8        6.0       16  555.437500              0.236588   \n",
       "8                 2.3        4.0       22  403.954545              0.172064   \n",
       "10                3.0        6.0       20  444.350000              0.189271   \n",
       "14                2.5        5.0       20  444.350000              0.189271   \n",
       "...               ...        ...      ...         ...                   ...   \n",
       "35502             2.0        4.0       25  353.000000              0.151416   \n",
       "35520             5.6        8.0       13  683.615385              0.291185   \n",
       "35522             5.6        8.0       13  683.615385              0.291185   \n",
       "35526             5.6        8.0       13  683.615385              0.291185   \n",
       "35537             1.3        4.0       25  355.480000              0.151416   \n",
       "\n",
       "         co2_pred  \n",
       "3      684.100242  \n",
       "4      556.648409  \n",
       "8      403.425550  \n",
       "10     444.496031  \n",
       "14     443.248007  \n",
       "...           ...  \n",
       "35502  354.669785  \n",
       "35520  688.091104  \n",
       "35522  688.091104  \n",
       "35526  688.091104  \n",
       "35537  352.053859  \n",
       "\n",
       "[7108 rows x 6 columns]"
      ]
     },
     "execution_count": 22,
     "metadata": {},
     "output_type": "execute_result"
    }
   ],
   "source": [
    "vehiculos_test"
   ]
  },
  {
   "cell_type": "code",
   "execution_count": 25,
   "id": "cbc10035",
   "metadata": {},
   "outputs": [],
   "source": [
    "#Encontrar Error\n",
    "def error_cuadriatico_medio(y,y_pred):\n",
    "    return np.sum((y-y_pred)**2)/len(y)"
   ]
  },
  {
   "cell_type": "code",
   "execution_count": 26,
   "id": "cdf0303e",
   "metadata": {},
   "outputs": [
    {
     "data": {
      "text/plain": [
       "137.77152491881418"
      ]
     },
     "execution_count": 26,
     "metadata": {},
     "output_type": "execute_result"
    }
   ],
   "source": [
    "error_test = error_cuadriatico_medio(vehiculos_test.co2,vehiculos_test.co2_pred )\n",
    "error_test"
   ]
  },
  {
   "cell_type": "code",
   "execution_count": null,
   "id": "abeedb33",
   "metadata": {},
   "outputs": [],
   "source": []
  }
 ],
 "metadata": {
  "kernelspec": {
   "display_name": "Python 3 (ipykernel)",
   "language": "python",
   "name": "python3"
  },
  "language_info": {
   "codemirror_mode": {
    "name": "ipython",
    "version": 3
   },
   "file_extension": ".py",
   "mimetype": "text/x-python",
   "name": "python",
   "nbconvert_exporter": "python",
   "pygments_lexer": "ipython3",
   "version": "3.9.7"
  }
 },
 "nbformat": 4,
 "nbformat_minor": 5
}
