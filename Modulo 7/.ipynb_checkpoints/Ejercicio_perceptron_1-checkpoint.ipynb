{
 "cells": [
  {
   "cell_type": "code",
   "execution_count": 1,
   "id": "5370d1ff",
   "metadata": {},
   "outputs": [],
   "source": [
    "from sklearn.datasets import load_breast_cancer\n"
   ]
  },
  {
   "cell_type": "code",
   "execution_count": 2,
   "id": "1ddd2b2a",
   "metadata": {},
   "outputs": [],
   "source": [
    "diagnosticos = load_breast_cancer()"
   ]
  },
  {
   "cell_type": "code",
   "execution_count": 3,
   "id": "df53df13",
   "metadata": {},
   "outputs": [],
   "source": [
    "X = diagnosticos.data\n",
    "y = diagnosticos.target"
   ]
  },
  {
   "cell_type": "code",
   "execution_count": 4,
   "id": "e09e2f8a",
   "metadata": {},
   "outputs": [
    {
     "data": {
      "text/plain": [
       "['DESCR',\n",
       " 'data',\n",
       " 'feature_names',\n",
       " 'filename',\n",
       " 'frame',\n",
       " 'target',\n",
       " 'target_names']"
      ]
     },
     "execution_count": 4,
     "metadata": {},
     "output_type": "execute_result"
    }
   ],
   "source": [
    "dir(diagnosticos)"
   ]
  },
  {
   "cell_type": "code",
   "execution_count": 5,
   "id": "0cbc8e4a",
   "metadata": {},
   "outputs": [
    {
     "data": {
      "text/plain": [
       "(569, 30)"
      ]
     },
     "execution_count": 5,
     "metadata": {},
     "output_type": "execute_result"
    }
   ],
   "source": [
    "X.shape"
   ]
  },
  {
   "cell_type": "code",
   "execution_count": 6,
   "id": "7d463fff",
   "metadata": {},
   "outputs": [],
   "source": [
    "import pandas as pd"
   ]
  },
  {
   "cell_type": "code",
   "execution_count": null,
   "id": "da8ee746",
   "metadata": {},
   "outputs": [],
   "source": [
    "df = pd.DataFrame(X,columns=diagnosticos.feature_names)\n",
    "df"
   ]
  },
  {
   "cell_type": "code",
   "execution_count": 8,
   "id": "5414fa94",
   "metadata": {},
   "outputs": [
    {
     "data": {
      "text/plain": [
       "(569,)"
      ]
     },
     "execution_count": 8,
     "metadata": {},
     "output_type": "execute_result"
    }
   ],
   "source": [
    "y.shape"
   ]
  },
  {
   "cell_type": "code",
   "execution_count": 9,
   "id": "29764096",
   "metadata": {},
   "outputs": [],
   "source": [
    "from sklearn.model_selection import train_test_split\n",
    "\n",
    "X_train, X_test, y_train, y_test = train_test_split(df,y, stratify=y)"
   ]
  },
  {
   "cell_type": "code",
   "execution_count": 10,
   "id": "83b50f8f",
   "metadata": {},
   "outputs": [],
   "source": [
    "# construir la neurona mas avanzada\n"
   ]
  },
  {
   "cell_type": "code",
   "execution_count": null,
   "id": "2dc478c3",
   "metadata": {},
   "outputs": [],
   "source": [
    "import numpy as np\n",
    "from sklearn.metrics import accuracy_score\n",
    "\n",
    "class NeuronaMP:\n",
    "    \n",
    "    def __init__(self):\n",
    "        self.b = None\n",
    "    \n",
    "    def modelo(self,x):\n",
    "        z = sum(x)\n",
    "        return (z >= self.b)\n",
    "    \n",
    "    def predict(self, X):\n",
    "        y = []\n",
    "        for x in X:\n",
    "            resultado = self.modelo(x)\n",
    "            y.append(resultado)\n",
    "        return np.array(y)\n",
    "    def fit(self, X,y):\n",
    "        exactitud = {}\n",
    "        for pb in range(X.shape[1] + 1):\n",
    "            self.b = pb\n",
    "            y_pred = self.predict(X)\n",
    "            exactitud[pb] = accuracy_score(y_pred,y) \n",
    "        "
   ]
  }
 ],
 "metadata": {
  "kernelspec": {
   "display_name": "Python 3 (ipykernel)",
   "language": "python",
   "name": "python3"
  },
  "language_info": {
   "codemirror_mode": {
    "name": "ipython",
    "version": 3
   },
   "file_extension": ".py",
   "mimetype": "text/x-python",
   "name": "python",
   "nbconvert_exporter": "python",
   "pygments_lexer": "ipython3",
   "version": "3.9.7"
  }
 },
 "nbformat": 4,
 "nbformat_minor": 5
}
