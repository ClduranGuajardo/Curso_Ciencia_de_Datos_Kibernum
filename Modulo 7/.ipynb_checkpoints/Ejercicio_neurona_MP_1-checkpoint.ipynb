{
 "cells": [
  {
   "cell_type": "code",
   "execution_count": 2,
   "id": "14b4bf6e",
   "metadata": {},
   "outputs": [],
   "source": [
    "import numpy as np"
   ]
  },
  {
   "cell_type": "code",
   "execution_count": 3,
   "id": "65875b3f",
   "metadata": {},
   "outputs": [],
   "source": [
    "# Definimos una neurona\n",
    "class NeuronaMP:\n",
    "    \n",
    "    def __init__(self):\n",
    "        self.b = None\n",
    "    \n",
    "    def modelo(self,x):\n",
    "        z = sum(x)\n",
    "        return (z >= self.b)\n",
    "    \n",
    "    def predict(self, X):\n",
    "        y = []\n",
    "        for x in X:\n",
    "            resultado = self.modelo(x)\n",
    "            y.append(resultado)\n",
    "        return y"
   ]
  },
  {
   "cell_type": "code",
   "execution_count": 4,
   "id": "dd3606f8",
   "metadata": {},
   "outputs": [],
   "source": [
    "# instanciar la neurona\n",
    "mp_neurona = NeuronaMP()"
   ]
  },
  {
   "cell_type": "code",
   "execution_count": 5,
   "id": "32f862d0",
   "metadata": {},
   "outputs": [],
   "source": [
    "mp_neurona.b = 5"
   ]
  },
  {
   "cell_type": "code",
   "execution_count": 8,
   "id": "a909701e",
   "metadata": {},
   "outputs": [],
   "source": [
    "prediccion = mp_neurona.predict([[1,0,2,-3],[6,3,0,-1,0]])"
   ]
  },
  {
   "cell_type": "code",
   "execution_count": 9,
   "id": "2d0f78c7",
   "metadata": {},
   "outputs": [
    {
     "data": {
      "text/plain": [
       "[False, True]"
      ]
     },
     "execution_count": 9,
     "metadata": {},
     "output_type": "execute_result"
    }
   ],
   "source": [
    "prediccion"
   ]
  },
  {
   "cell_type": "code",
   "execution_count": null,
   "id": "688d2752",
   "metadata": {},
   "outputs": [],
   "source": []
  }
 ],
 "metadata": {
  "kernelspec": {
   "display_name": "Python 3 (ipykernel)",
   "language": "python",
   "name": "python3"
  },
  "language_info": {
   "codemirror_mode": {
    "name": "ipython",
    "version": 3
   },
   "file_extension": ".py",
   "mimetype": "text/x-python",
   "name": "python",
   "nbconvert_exporter": "python",
   "pygments_lexer": "ipython3",
   "version": "3.9.7"
  }
 },
 "nbformat": 4,
 "nbformat_minor": 5
}
