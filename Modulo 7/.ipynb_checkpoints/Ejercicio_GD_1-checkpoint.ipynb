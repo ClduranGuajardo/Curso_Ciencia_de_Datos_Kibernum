{
 "cells": [
  {
   "cell_type": "code",
   "execution_count": 1,
   "id": "55fd7416",
   "metadata": {},
   "outputs": [
    {
     "name": "stdout",
     "output_type": "stream",
     "text": [
      "Last updated: 2022-02-08T14:33:58.570728-03:00\n",
      "\n",
      "Python implementation: CPython\n",
      "Python version       : 3.9.7\n",
      "IPython version      : 7.29.0\n",
      "\n",
      "Compiler    : MSC v.1916 64 bit (AMD64)\n",
      "OS          : Windows\n",
      "Release     : 10\n",
      "Machine     : AMD64\n",
      "Processor   : Intel64 Family 6 Model 158 Stepping 11, GenuineIntel\n",
      "CPU cores   : 4\n",
      "Architecture: 64bit\n",
      "\n"
     ]
    }
   ],
   "source": [
    "%load_ext watermark\n",
    "%watermark"
   ]
  },
  {
   "cell_type": "code",
   "execution_count": 2,
   "id": "005717d0",
   "metadata": {},
   "outputs": [],
   "source": [
    "import numpy as np\n",
    "import matplotlib.pyplot as plt\n",
    "%matplotlib inline\n",
    "plt.rcParams[\"figure.figsize\"] = (10,10)"
   ]
  },
  {
   "cell_type": "code",
   "execution_count": 3,
   "id": "1cabe52c",
   "metadata": {},
   "outputs": [],
   "source": [
    "# descenso de gradiente"
   ]
  },
  {
   "cell_type": "code",
   "execution_count": 4,
   "id": "c5e61ff2",
   "metadata": {},
   "outputs": [],
   "source": [
    "f = lambda x: x**2 - 2*x + 4"
   ]
  },
  {
   "cell_type": "code",
   "execution_count": 5,
   "id": "0d9d8483",
   "metadata": {},
   "outputs": [
    {
     "data": {
      "text/plain": [
       "19"
      ]
     },
     "execution_count": 5,
     "metadata": {},
     "output_type": "execute_result"
    }
   ],
   "source": [
    "f(5)"
   ]
  },
  {
   "cell_type": "code",
   "execution_count": 6,
   "id": "1b79902a",
   "metadata": {},
   "outputs": [],
   "source": [
    "f_prima = lambda X: 2*x - 2"
   ]
  },
  {
   "cell_type": "code",
   "execution_count": null,
   "id": "907f1978",
   "metadata": {},
   "outputs": [],
   "source": []
  }
 ],
 "metadata": {
  "kernelspec": {
   "display_name": "Python 3 (ipykernel)",
   "language": "python",
   "name": "python3"
  },
  "language_info": {
   "codemirror_mode": {
    "name": "ipython",
    "version": 3
   },
   "file_extension": ".py",
   "mimetype": "text/x-python",
   "name": "python",
   "nbconvert_exporter": "python",
   "pygments_lexer": "ipython3",
   "version": "3.9.7"
  }
 },
 "nbformat": 4,
 "nbformat_minor": 5
}
